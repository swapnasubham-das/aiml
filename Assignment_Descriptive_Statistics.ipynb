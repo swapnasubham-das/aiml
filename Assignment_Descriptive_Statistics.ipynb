{
 "cells": [
  {
   "cell_type": "markdown",
   "id": "d8cce1aa-f954-4a9a-a881-1c2b890fa61f",
   "metadata": {},
   "source": [
    "### Import the attached CSV files (Diamond.csv) and answer the following questions:"
   ]
  },
  {
   "cell_type": "code",
   "execution_count": 1,
   "id": "a9b1b4cb-1226-4930-90c1-cfa31b22376b",
   "metadata": {},
   "outputs": [
    {
     "data": {
      "text/html": [
       "<div>\n",
       "<style scoped>\n",
       "    .dataframe tbody tr th:only-of-type {\n",
       "        vertical-align: middle;\n",
       "    }\n",
       "\n",
       "    .dataframe tbody tr th {\n",
       "        vertical-align: top;\n",
       "    }\n",
       "\n",
       "    .dataframe thead th {\n",
       "        text-align: right;\n",
       "    }\n",
       "</style>\n",
       "<table border=\"1\" class=\"dataframe\">\n",
       "  <thead>\n",
       "    <tr style=\"text-align: right;\">\n",
       "      <th></th>\n",
       "      <th>carat</th>\n",
       "      <th>cut</th>\n",
       "      <th>color</th>\n",
       "      <th>clarity</th>\n",
       "      <th>depth</th>\n",
       "      <th>table</th>\n",
       "      <th>weight</th>\n",
       "      <th>size</th>\n",
       "      <th>price</th>\n",
       "    </tr>\n",
       "  </thead>\n",
       "  <tbody>\n",
       "    <tr>\n",
       "      <th>0</th>\n",
       "      <td>0.23</td>\n",
       "      <td>Ideal</td>\n",
       "      <td>E</td>\n",
       "      <td>SI2</td>\n",
       "      <td>61.5</td>\n",
       "      <td>55.0</td>\n",
       "      <td>3.95</td>\n",
       "      <td>3.98</td>\n",
       "      <td>326</td>\n",
       "    </tr>\n",
       "    <tr>\n",
       "      <th>1</th>\n",
       "      <td>0.21</td>\n",
       "      <td>Premium</td>\n",
       "      <td>E</td>\n",
       "      <td>SI1</td>\n",
       "      <td>59.8</td>\n",
       "      <td>61.0</td>\n",
       "      <td>3.89</td>\n",
       "      <td>3.84</td>\n",
       "      <td>326</td>\n",
       "    </tr>\n",
       "    <tr>\n",
       "      <th>2</th>\n",
       "      <td>0.23</td>\n",
       "      <td>Good</td>\n",
       "      <td>E</td>\n",
       "      <td>VS1</td>\n",
       "      <td>56.9</td>\n",
       "      <td>65.0</td>\n",
       "      <td>4.05</td>\n",
       "      <td>4.07</td>\n",
       "      <td>327</td>\n",
       "    </tr>\n",
       "    <tr>\n",
       "      <th>3</th>\n",
       "      <td>0.29</td>\n",
       "      <td>Premium</td>\n",
       "      <td>I</td>\n",
       "      <td>VS2</td>\n",
       "      <td>62.4</td>\n",
       "      <td>58.0</td>\n",
       "      <td>4.20</td>\n",
       "      <td>4.23</td>\n",
       "      <td>334</td>\n",
       "    </tr>\n",
       "    <tr>\n",
       "      <th>4</th>\n",
       "      <td>0.31</td>\n",
       "      <td>Good</td>\n",
       "      <td>J</td>\n",
       "      <td>SI2</td>\n",
       "      <td>63.3</td>\n",
       "      <td>58.0</td>\n",
       "      <td>4.34</td>\n",
       "      <td>4.35</td>\n",
       "      <td>335</td>\n",
       "    </tr>\n",
       "  </tbody>\n",
       "</table>\n",
       "</div>"
      ],
      "text/plain": [
       "   carat      cut color clarity  depth  table  weight  size  price\n",
       "0   0.23    Ideal     E     SI2   61.5   55.0    3.95  3.98    326\n",
       "1   0.21  Premium     E     SI1   59.8   61.0    3.89  3.84    326\n",
       "2   0.23     Good     E     VS1   56.9   65.0    4.05  4.07    327\n",
       "3   0.29  Premium     I     VS2   62.4   58.0    4.20  4.23    334\n",
       "4   0.31     Good     J     SI2   63.3   58.0    4.34  4.35    335"
      ]
     },
     "execution_count": 1,
     "metadata": {},
     "output_type": "execute_result"
    }
   ],
   "source": [
    "import numpy as np\n",
    "import pandas as pd\n",
    "import statistics as stats\n",
    "from scipy.stats import boxcox\n",
    "import seaborn as sns\n",
    "import matplotlib.pyplot as plt \n",
    "import warnings\n",
    "warnings.filterwarnings(\"ignore\")\n",
    "%matplotlib inline \n",
    "\n",
    "df = pd.read_csv('diamond.csv')\n",
    "df.head()"
   ]
  },
  {
   "cell_type": "markdown",
   "id": "d8bae8b3-491a-42c6-bc43-58bddcd2c4b6",
   "metadata": {},
   "source": [
    "### Create 2 dataframes out of this dataframe – 1 with all numerical variables and other with all categorical variables."
   ]
  },
  {
   "cell_type": "code",
   "execution_count": 2,
   "id": "0e6ff427-91f3-4780-8fc0-4d5c148c5536",
   "metadata": {},
   "outputs": [],
   "source": [
    "numerical_df = df.select_dtypes(include=['float64', 'int64'])\n",
    "categorical_df = df.select_dtypes(include=['object'])"
   ]
  },
  {
   "cell_type": "code",
   "execution_count": 3,
   "id": "4d6d20ad-2218-4ea3-9e04-7137d98a18a5",
   "metadata": {},
   "outputs": [
    {
     "data": {
      "text/html": [
       "<div>\n",
       "<style scoped>\n",
       "    .dataframe tbody tr th:only-of-type {\n",
       "        vertical-align: middle;\n",
       "    }\n",
       "\n",
       "    .dataframe tbody tr th {\n",
       "        vertical-align: top;\n",
       "    }\n",
       "\n",
       "    .dataframe thead th {\n",
       "        text-align: right;\n",
       "    }\n",
       "</style>\n",
       "<table border=\"1\" class=\"dataframe\">\n",
       "  <thead>\n",
       "    <tr style=\"text-align: right;\">\n",
       "      <th></th>\n",
       "      <th>carat</th>\n",
       "      <th>depth</th>\n",
       "      <th>table</th>\n",
       "      <th>weight</th>\n",
       "      <th>size</th>\n",
       "      <th>price</th>\n",
       "    </tr>\n",
       "  </thead>\n",
       "  <tbody>\n",
       "    <tr>\n",
       "      <th>0</th>\n",
       "      <td>0.23</td>\n",
       "      <td>61.5</td>\n",
       "      <td>55.0</td>\n",
       "      <td>3.95</td>\n",
       "      <td>3.98</td>\n",
       "      <td>326</td>\n",
       "    </tr>\n",
       "    <tr>\n",
       "      <th>1</th>\n",
       "      <td>0.21</td>\n",
       "      <td>59.8</td>\n",
       "      <td>61.0</td>\n",
       "      <td>3.89</td>\n",
       "      <td>3.84</td>\n",
       "      <td>326</td>\n",
       "    </tr>\n",
       "    <tr>\n",
       "      <th>2</th>\n",
       "      <td>0.23</td>\n",
       "      <td>56.9</td>\n",
       "      <td>65.0</td>\n",
       "      <td>4.05</td>\n",
       "      <td>4.07</td>\n",
       "      <td>327</td>\n",
       "    </tr>\n",
       "    <tr>\n",
       "      <th>3</th>\n",
       "      <td>0.29</td>\n",
       "      <td>62.4</td>\n",
       "      <td>58.0</td>\n",
       "      <td>4.20</td>\n",
       "      <td>4.23</td>\n",
       "      <td>334</td>\n",
       "    </tr>\n",
       "    <tr>\n",
       "      <th>4</th>\n",
       "      <td>0.31</td>\n",
       "      <td>63.3</td>\n",
       "      <td>58.0</td>\n",
       "      <td>4.34</td>\n",
       "      <td>4.35</td>\n",
       "      <td>335</td>\n",
       "    </tr>\n",
       "  </tbody>\n",
       "</table>\n",
       "</div>"
      ],
      "text/plain": [
       "   carat  depth  table  weight  size  price\n",
       "0   0.23   61.5   55.0    3.95  3.98    326\n",
       "1   0.21   59.8   61.0    3.89  3.84    326\n",
       "2   0.23   56.9   65.0    4.05  4.07    327\n",
       "3   0.29   62.4   58.0    4.20  4.23    334\n",
       "4   0.31   63.3   58.0    4.34  4.35    335"
      ]
     },
     "execution_count": 3,
     "metadata": {},
     "output_type": "execute_result"
    }
   ],
   "source": [
    "numerical_df.head()"
   ]
  },
  {
   "cell_type": "code",
   "execution_count": 4,
   "id": "58523216-18e8-48c5-bda2-02e5c1c6773b",
   "metadata": {},
   "outputs": [
    {
     "data": {
      "text/html": [
       "<div>\n",
       "<style scoped>\n",
       "    .dataframe tbody tr th:only-of-type {\n",
       "        vertical-align: middle;\n",
       "    }\n",
       "\n",
       "    .dataframe tbody tr th {\n",
       "        vertical-align: top;\n",
       "    }\n",
       "\n",
       "    .dataframe thead th {\n",
       "        text-align: right;\n",
       "    }\n",
       "</style>\n",
       "<table border=\"1\" class=\"dataframe\">\n",
       "  <thead>\n",
       "    <tr style=\"text-align: right;\">\n",
       "      <th></th>\n",
       "      <th>cut</th>\n",
       "      <th>color</th>\n",
       "      <th>clarity</th>\n",
       "    </tr>\n",
       "  </thead>\n",
       "  <tbody>\n",
       "    <tr>\n",
       "      <th>0</th>\n",
       "      <td>Ideal</td>\n",
       "      <td>E</td>\n",
       "      <td>SI2</td>\n",
       "    </tr>\n",
       "    <tr>\n",
       "      <th>1</th>\n",
       "      <td>Premium</td>\n",
       "      <td>E</td>\n",
       "      <td>SI1</td>\n",
       "    </tr>\n",
       "    <tr>\n",
       "      <th>2</th>\n",
       "      <td>Good</td>\n",
       "      <td>E</td>\n",
       "      <td>VS1</td>\n",
       "    </tr>\n",
       "    <tr>\n",
       "      <th>3</th>\n",
       "      <td>Premium</td>\n",
       "      <td>I</td>\n",
       "      <td>VS2</td>\n",
       "    </tr>\n",
       "    <tr>\n",
       "      <th>4</th>\n",
       "      <td>Good</td>\n",
       "      <td>J</td>\n",
       "      <td>SI2</td>\n",
       "    </tr>\n",
       "  </tbody>\n",
       "</table>\n",
       "</div>"
      ],
      "text/plain": [
       "       cut color clarity\n",
       "0    Ideal     E     SI2\n",
       "1  Premium     E     SI1\n",
       "2     Good     E     VS1\n",
       "3  Premium     I     VS2\n",
       "4     Good     J     SI2"
      ]
     },
     "execution_count": 4,
     "metadata": {},
     "output_type": "execute_result"
    }
   ],
   "source": [
    "categorical_df.head()"
   ]
  },
  {
   "cell_type": "markdown",
   "id": "535d644d-1e07-423f-8aab-d12c08067fc5",
   "metadata": {},
   "source": [
    "### Calculate the measure of central tendency of numerical variables using Pandas and statistics libraries and check if the calculated values are different between these 2 libraries."
   ]
  },
  {
   "cell_type": "code",
   "execution_count": 5,
   "id": "d2e06cb7-c95d-4b59-b8da-48084e8cefa0",
   "metadata": {},
   "outputs": [
    {
     "data": {
      "text/html": [
       "<div>\n",
       "<style scoped>\n",
       "    .dataframe tbody tr th:only-of-type {\n",
       "        vertical-align: middle;\n",
       "    }\n",
       "\n",
       "    .dataframe tbody tr th {\n",
       "        vertical-align: top;\n",
       "    }\n",
       "\n",
       "    .dataframe thead th {\n",
       "        text-align: right;\n",
       "    }\n",
       "</style>\n",
       "<table border=\"1\" class=\"dataframe\">\n",
       "  <thead>\n",
       "    <tr style=\"text-align: right;\">\n",
       "      <th></th>\n",
       "      <th>Pandas Mean</th>\n",
       "      <th>Stats Mean</th>\n",
       "      <th>Pandas Median</th>\n",
       "      <th>Stats Median</th>\n",
       "      <th>Pandas Mode</th>\n",
       "      <th>Stats Mode</th>\n",
       "    </tr>\n",
       "  </thead>\n",
       "  <tbody>\n",
       "    <tr>\n",
       "      <th>carat</th>\n",
       "      <td>0.797940</td>\n",
       "      <td>0.797940</td>\n",
       "      <td>0.70</td>\n",
       "      <td>0.70</td>\n",
       "      <td>0.30</td>\n",
       "      <td>0.30</td>\n",
       "    </tr>\n",
       "    <tr>\n",
       "      <th>depth</th>\n",
       "      <td>61.749405</td>\n",
       "      <td>61.749405</td>\n",
       "      <td>61.80</td>\n",
       "      <td>61.80</td>\n",
       "      <td>62.00</td>\n",
       "      <td>62.00</td>\n",
       "    </tr>\n",
       "    <tr>\n",
       "      <th>table</th>\n",
       "      <td>57.457184</td>\n",
       "      <td>57.457184</td>\n",
       "      <td>57.00</td>\n",
       "      <td>57.00</td>\n",
       "      <td>56.00</td>\n",
       "      <td>56.00</td>\n",
       "    </tr>\n",
       "    <tr>\n",
       "      <th>weight</th>\n",
       "      <td>5.731157</td>\n",
       "      <td>5.731157</td>\n",
       "      <td>5.70</td>\n",
       "      <td>5.70</td>\n",
       "      <td>4.37</td>\n",
       "      <td>4.37</td>\n",
       "    </tr>\n",
       "    <tr>\n",
       "      <th>size</th>\n",
       "      <td>5.734526</td>\n",
       "      <td>5.734526</td>\n",
       "      <td>5.71</td>\n",
       "      <td>5.71</td>\n",
       "      <td>4.34</td>\n",
       "      <td>4.34</td>\n",
       "    </tr>\n",
       "    <tr>\n",
       "      <th>price</th>\n",
       "      <td>3932.799722</td>\n",
       "      <td>3932.799722</td>\n",
       "      <td>2401.00</td>\n",
       "      <td>2401.00</td>\n",
       "      <td>605.00</td>\n",
       "      <td>605.00</td>\n",
       "    </tr>\n",
       "  </tbody>\n",
       "</table>\n",
       "</div>"
      ],
      "text/plain": [
       "        Pandas Mean   Stats Mean  Pandas Median  Stats Median  Pandas Mode  \\\n",
       "carat      0.797940     0.797940           0.70          0.70         0.30   \n",
       "depth     61.749405    61.749405          61.80         61.80        62.00   \n",
       "table     57.457184    57.457184          57.00         57.00        56.00   \n",
       "weight     5.731157     5.731157           5.70          5.70         4.37   \n",
       "size       5.734526     5.734526           5.71          5.71         4.34   \n",
       "price   3932.799722  3932.799722        2401.00       2401.00       605.00   \n",
       "\n",
       "        Stats Mode  \n",
       "carat         0.30  \n",
       "depth        62.00  \n",
       "table        56.00  \n",
       "weight        4.37  \n",
       "size          4.34  \n",
       "price       605.00  "
      ]
     },
     "execution_count": 5,
     "metadata": {},
     "output_type": "execute_result"
    }
   ],
   "source": [
    "# Pandas stats\n",
    "pandas_mean = numerical_df.mean()\n",
    "pandas_median = numerical_df.median()\n",
    "pandas_mode = numerical_df.mode().iloc[0]  # mode returns a dataframe, so we select the first row\n",
    "\n",
    "# Statistics library stats\n",
    "stats_mean = numerical_df.apply(stats.mean)\n",
    "stats_median = numerical_df.apply(stats.median)\n",
    "stats_mode = numerical_df.apply(lambda x: stats.mode(x))\n",
    "\n",
    "# Creating a comparison DataFrame\n",
    "comparison_df = pd.DataFrame({\n",
    "    'Pandas Mean': pandas_mean,\n",
    "    'Stats Mean': stats_mean,\n",
    "    'Pandas Median': pandas_median,\n",
    "    'Stats Median': stats_median,\n",
    "    'Pandas Mode': pandas_mode,\n",
    "    'Stats Mode': stats_mode\n",
    "})\n",
    "comparison_df"
   ]
  },
  {
   "cell_type": "markdown",
   "id": "46b9c612-ef8d-479a-9205-f0443feae188",
   "metadata": {},
   "source": [
    "### Check the skewness of all numeric variables. Mention against each variable if its highly skewed/light skewed/ Moderately skwewed"
   ]
  },
  {
   "cell_type": "code",
   "execution_count": 6,
   "id": "d0b42315-24d0-4004-8c6b-cfa858719c65",
   "metadata": {},
   "outputs": [
    {
     "data": {
      "text/html": [
       "<div>\n",
       "<style scoped>\n",
       "    .dataframe tbody tr th:only-of-type {\n",
       "        vertical-align: middle;\n",
       "    }\n",
       "\n",
       "    .dataframe tbody tr th {\n",
       "        vertical-align: top;\n",
       "    }\n",
       "\n",
       "    .dataframe thead th {\n",
       "        text-align: right;\n",
       "    }\n",
       "</style>\n",
       "<table border=\"1\" class=\"dataframe\">\n",
       "  <thead>\n",
       "    <tr style=\"text-align: right;\">\n",
       "      <th></th>\n",
       "      <th>Skewness</th>\n",
       "      <th>Category</th>\n",
       "    </tr>\n",
       "  </thead>\n",
       "  <tbody>\n",
       "    <tr>\n",
       "      <th>carat</th>\n",
       "      <td>1.116646</td>\n",
       "      <td>Highly Skewed</td>\n",
       "    </tr>\n",
       "    <tr>\n",
       "      <th>depth</th>\n",
       "      <td>-0.082294</td>\n",
       "      <td>Lightly Skewed</td>\n",
       "    </tr>\n",
       "    <tr>\n",
       "      <th>table</th>\n",
       "      <td>0.796896</td>\n",
       "      <td>Moderately Skewed</td>\n",
       "    </tr>\n",
       "    <tr>\n",
       "      <th>weight</th>\n",
       "      <td>0.378676</td>\n",
       "      <td>Lightly Skewed</td>\n",
       "    </tr>\n",
       "    <tr>\n",
       "      <th>size</th>\n",
       "      <td>2.434167</td>\n",
       "      <td>Highly Skewed</td>\n",
       "    </tr>\n",
       "    <tr>\n",
       "      <th>price</th>\n",
       "      <td>1.618395</td>\n",
       "      <td>Highly Skewed</td>\n",
       "    </tr>\n",
       "  </tbody>\n",
       "</table>\n",
       "</div>"
      ],
      "text/plain": [
       "        Skewness           Category\n",
       "carat   1.116646      Highly Skewed\n",
       "depth  -0.082294     Lightly Skewed\n",
       "table   0.796896  Moderately Skewed\n",
       "weight  0.378676     Lightly Skewed\n",
       "size    2.434167      Highly Skewed\n",
       "price   1.618395      Highly Skewed"
      ]
     },
     "execution_count": 6,
     "metadata": {},
     "output_type": "execute_result"
    }
   ],
   "source": [
    "# Checking the skewness of all numerical variables\n",
    "skewness = numerical_df.skew()\n",
    "\n",
    "# Categorizing the skewness\n",
    "skewness_category = skewness.apply(lambda x: 'Highly Skewed' if abs(x) > 1 else ('Moderately Skewed' if abs(x) > 0.5 else 'Lightly Skewed'))\n",
    "\n",
    "# Combining the results into a DataFrame\n",
    "skewness_df = pd.DataFrame({'Skewness': skewness,'Category': skewness_category})\n",
    "skewness_df"
   ]
  },
  {
   "cell_type": "code",
   "execution_count": 7,
   "id": "23e3de0b-1e8e-44cd-9ba0-a3ab2f153adf",
   "metadata": {},
   "outputs": [
    {
     "data": {
      "text/html": [
       "<div>\n",
       "<style scoped>\n",
       "    .dataframe tbody tr th:only-of-type {\n",
       "        vertical-align: middle;\n",
       "    }\n",
       "\n",
       "    .dataframe tbody tr th {\n",
       "        vertical-align: top;\n",
       "    }\n",
       "\n",
       "    .dataframe thead th {\n",
       "        text-align: right;\n",
       "    }\n",
       "</style>\n",
       "<table border=\"1\" class=\"dataframe\">\n",
       "  <thead>\n",
       "    <tr style=\"text-align: right;\">\n",
       "      <th></th>\n",
       "      <th>Skewness</th>\n",
       "      <th>Category</th>\n",
       "    </tr>\n",
       "  </thead>\n",
       "  <tbody>\n",
       "    <tr>\n",
       "      <th>carat</th>\n",
       "      <td>1.116646</td>\n",
       "      <td>Highly Skewed</td>\n",
       "    </tr>\n",
       "    <tr>\n",
       "      <th>depth</th>\n",
       "      <td>-0.082294</td>\n",
       "      <td>Lightly Skewed</td>\n",
       "    </tr>\n",
       "    <tr>\n",
       "      <th>table</th>\n",
       "      <td>0.796896</td>\n",
       "      <td>Moderately Skewed</td>\n",
       "    </tr>\n",
       "    <tr>\n",
       "      <th>weight</th>\n",
       "      <td>0.378676</td>\n",
       "      <td>Lightly Skewed</td>\n",
       "    </tr>\n",
       "    <tr>\n",
       "      <th>size</th>\n",
       "      <td>2.434167</td>\n",
       "      <td>Highly Skewed</td>\n",
       "    </tr>\n",
       "    <tr>\n",
       "      <th>price</th>\n",
       "      <td>1.618395</td>\n",
       "      <td>Highly Skewed</td>\n",
       "    </tr>\n",
       "  </tbody>\n",
       "</table>\n",
       "</div>"
      ],
      "text/plain": [
       "        Skewness           Category\n",
       "carat   1.116646      Highly Skewed\n",
       "depth  -0.082294     Lightly Skewed\n",
       "table   0.796896  Moderately Skewed\n",
       "weight  0.378676     Lightly Skewed\n",
       "size    2.434167      Highly Skewed\n",
       "price   1.618395      Highly Skewed"
      ]
     },
     "execution_count": 7,
     "metadata": {},
     "output_type": "execute_result"
    }
   ],
   "source": [
    "# Checking the skewness of all numerical variables\n",
    "skewness = numerical_df.skew()\n",
    "def categorize_skewness(x):\n",
    "    if abs(x) > 1:\n",
    "        return 'Highly Skewed'\n",
    "    elif abs(x) > 0.5:\n",
    "        return 'Moderately Skewed'\n",
    "    else:\n",
    "        return 'Lightly Skewed'\n",
    "\n",
    "skewness_category = skewness.apply(categorize_skewness)\n",
    "# Combining the results into a DataFrame\n",
    "skewness_df = pd.DataFrame({'Skewness': skewness,'Category': skewness_category})\n",
    "\n",
    "skewness_df"
   ]
  },
  {
   "cell_type": "markdown",
   "id": "bb5de6b8-a176-493e-8048-cb7a263e881c",
   "metadata": {},
   "source": [
    "### Use the different transformation techniques to convert skewed data found in previous question into normal distribution"
   ]
  },
  {
   "cell_type": "markdown",
   "id": "eb4cb298-d71e-4e7d-8856-c5c8a8c6c846",
   "metadata": {},
   "source": [
    "#### Log Transformation"
   ]
  },
  {
   "cell_type": "code",
   "execution_count": 8,
   "id": "10eb7fd1-c859-4cce-bf96-8644c2970bf7",
   "metadata": {},
   "outputs": [],
   "source": [
    "# Deep copy\n",
    "numerical_log_transfrom_df = numerical_df.copy()"
   ]
  },
  {
   "cell_type": "code",
   "execution_count": 9,
   "id": "036d7807-3d45-4662-a287-b8feac5bbf58",
   "metadata": {},
   "outputs": [],
   "source": [
    "columns_to_log = ['carat', 'depth', 'table', 'weight', 'size', 'price']\n",
    "numerical_log_transfrom_df[columns_to_log] = np.log(numerical_log_transfrom_df[columns_to_log]+1)"
   ]
  },
  {
   "cell_type": "code",
   "execution_count": 10,
   "id": "0c56a16e-2670-403b-acbd-830042749b42",
   "metadata": {},
   "outputs": [
    {
     "data": {
      "text/html": [
       "<div>\n",
       "<style scoped>\n",
       "    .dataframe tbody tr th:only-of-type {\n",
       "        vertical-align: middle;\n",
       "    }\n",
       "\n",
       "    .dataframe tbody tr th {\n",
       "        vertical-align: top;\n",
       "    }\n",
       "\n",
       "    .dataframe thead th {\n",
       "        text-align: right;\n",
       "    }\n",
       "</style>\n",
       "<table border=\"1\" class=\"dataframe\">\n",
       "  <thead>\n",
       "    <tr style=\"text-align: right;\">\n",
       "      <th></th>\n",
       "      <th>carat</th>\n",
       "      <th>depth</th>\n",
       "      <th>table</th>\n",
       "      <th>weight</th>\n",
       "      <th>size</th>\n",
       "      <th>price</th>\n",
       "    </tr>\n",
       "  </thead>\n",
       "  <tbody>\n",
       "    <tr>\n",
       "      <th>0</th>\n",
       "      <td>0.207014</td>\n",
       "      <td>4.135167</td>\n",
       "      <td>4.025352</td>\n",
       "      <td>1.599388</td>\n",
       "      <td>1.605430</td>\n",
       "      <td>5.789960</td>\n",
       "    </tr>\n",
       "    <tr>\n",
       "      <th>1</th>\n",
       "      <td>0.190620</td>\n",
       "      <td>4.107590</td>\n",
       "      <td>4.127134</td>\n",
       "      <td>1.587192</td>\n",
       "      <td>1.576915</td>\n",
       "      <td>5.789960</td>\n",
       "    </tr>\n",
       "    <tr>\n",
       "      <th>2</th>\n",
       "      <td>0.207014</td>\n",
       "      <td>4.058717</td>\n",
       "      <td>4.189655</td>\n",
       "      <td>1.619388</td>\n",
       "      <td>1.623341</td>\n",
       "      <td>5.793014</td>\n",
       "    </tr>\n",
       "    <tr>\n",
       "      <th>3</th>\n",
       "      <td>0.254642</td>\n",
       "      <td>4.149464</td>\n",
       "      <td>4.077537</td>\n",
       "      <td>1.648659</td>\n",
       "      <td>1.654411</td>\n",
       "      <td>5.814131</td>\n",
       "    </tr>\n",
       "    <tr>\n",
       "      <th>4</th>\n",
       "      <td>0.270027</td>\n",
       "      <td>4.163560</td>\n",
       "      <td>4.077537</td>\n",
       "      <td>1.675226</td>\n",
       "      <td>1.677097</td>\n",
       "      <td>5.817111</td>\n",
       "    </tr>\n",
       "  </tbody>\n",
       "</table>\n",
       "</div>"
      ],
      "text/plain": [
       "      carat     depth     table    weight      size     price\n",
       "0  0.207014  4.135167  4.025352  1.599388  1.605430  5.789960\n",
       "1  0.190620  4.107590  4.127134  1.587192  1.576915  5.789960\n",
       "2  0.207014  4.058717  4.189655  1.619388  1.623341  5.793014\n",
       "3  0.254642  4.149464  4.077537  1.648659  1.654411  5.814131\n",
       "4  0.270027  4.163560  4.077537  1.675226  1.677097  5.817111"
      ]
     },
     "execution_count": 10,
     "metadata": {},
     "output_type": "execute_result"
    }
   ],
   "source": [
    "numerical_log_transfrom_df.head()"
   ]
  },
  {
   "cell_type": "code",
   "execution_count": 11,
   "id": "cd0a6d81-a1ae-4c03-b562-b8b712cbf1ee",
   "metadata": {},
   "outputs": [],
   "source": [
    "def categorize_skewness(x):\n",
    "    if abs(x) > 1:\n",
    "        return 'Highly Skewed'\n",
    "    elif abs(x) > 0.5:\n",
    "        return 'Moderately Skewed'\n",
    "    else:\n",
    "        return 'Lightly Skewed'"
   ]
  },
  {
   "cell_type": "code",
   "execution_count": 12,
   "id": "4a1610b6-bec1-461f-8171-b89cfbe76398",
   "metadata": {},
   "outputs": [
    {
     "data": {
      "text/html": [
       "<div>\n",
       "<style scoped>\n",
       "    .dataframe tbody tr th:only-of-type {\n",
       "        vertical-align: middle;\n",
       "    }\n",
       "\n",
       "    .dataframe tbody tr th {\n",
       "        vertical-align: top;\n",
       "    }\n",
       "\n",
       "    .dataframe thead th {\n",
       "        text-align: right;\n",
       "    }\n",
       "</style>\n",
       "<table border=\"1\" class=\"dataframe\">\n",
       "  <thead>\n",
       "    <tr style=\"text-align: right;\">\n",
       "      <th></th>\n",
       "      <th>Skewness</th>\n",
       "      <th>Category</th>\n",
       "    </tr>\n",
       "  </thead>\n",
       "  <tbody>\n",
       "    <tr>\n",
       "      <th>carat</th>\n",
       "      <td>0.580654</td>\n",
       "      <td>Moderately Skewed</td>\n",
       "    </tr>\n",
       "    <tr>\n",
       "      <th>depth</th>\n",
       "      <td>-0.359117</td>\n",
       "      <td>Lightly Skewed</td>\n",
       "    </tr>\n",
       "    <tr>\n",
       "      <th>table</th>\n",
       "      <td>0.602231</td>\n",
       "      <td>Moderately Skewed</td>\n",
       "    </tr>\n",
       "    <tr>\n",
       "      <th>weight</th>\n",
       "      <td>-0.073063</td>\n",
       "      <td>Lightly Skewed</td>\n",
       "    </tr>\n",
       "    <tr>\n",
       "      <th>size</th>\n",
       "      <td>0.006600</td>\n",
       "      <td>Lightly Skewed</td>\n",
       "    </tr>\n",
       "    <tr>\n",
       "      <th>price</th>\n",
       "      <td>0.115926</td>\n",
       "      <td>Lightly Skewed</td>\n",
       "    </tr>\n",
       "  </tbody>\n",
       "</table>\n",
       "</div>"
      ],
      "text/plain": [
       "        Skewness           Category\n",
       "carat   0.580654  Moderately Skewed\n",
       "depth  -0.359117     Lightly Skewed\n",
       "table   0.602231  Moderately Skewed\n",
       "weight -0.073063     Lightly Skewed\n",
       "size    0.006600     Lightly Skewed\n",
       "price   0.115926     Lightly Skewed"
      ]
     },
     "execution_count": 12,
     "metadata": {},
     "output_type": "execute_result"
    }
   ],
   "source": [
    "# Checking the skewness of all numerical variables after log transformation\n",
    "skewness = numerical_log_transfrom_df.skew()\n",
    "skewness_category = skewness.apply(categorize_skewness)\n",
    "# Combining the results into a DataFrame\n",
    "skewness_df = pd.DataFrame({'Skewness': skewness,'Category': skewness_category})\n",
    "skewness_df"
   ]
  },
  {
   "cell_type": "markdown",
   "id": "2a5f5dd3-92b2-44f0-b74a-0a65980dcb1c",
   "metadata": {},
   "source": [
    "###### By using Log transformation we get very less skewness in \"size\" column "
   ]
  },
  {
   "cell_type": "markdown",
   "id": "b416b9d5-a4bb-4b33-82de-61c07f50fb73",
   "metadata": {},
   "source": [
    "### Sqrt Tranformation"
   ]
  },
  {
   "cell_type": "code",
   "execution_count": 13,
   "id": "2342f3a7-fedb-4091-9710-63a7975b6734",
   "metadata": {},
   "outputs": [],
   "source": [
    "# Deep copy\n",
    "numerical_sqrt_transfrom_df = numerical_df.copy()"
   ]
  },
  {
   "cell_type": "code",
   "execution_count": 14,
   "id": "85a4b537-2e3c-4691-b8be-46a7b96ded9c",
   "metadata": {},
   "outputs": [],
   "source": [
    "columns_to_sqrt = ['carat', 'depth', 'table', 'weight', 'size', 'price']\n",
    "numerical_sqrt_transfrom_df[columns_to_sqrt] = np.sqrt(numerical_sqrt_transfrom_df[columns_to_sqrt])"
   ]
  },
  {
   "cell_type": "code",
   "execution_count": 15,
   "id": "af1322f8-ac01-4f08-8818-0196863352b7",
   "metadata": {},
   "outputs": [
    {
     "data": {
      "text/html": [
       "<div>\n",
       "<style scoped>\n",
       "    .dataframe tbody tr th:only-of-type {\n",
       "        vertical-align: middle;\n",
       "    }\n",
       "\n",
       "    .dataframe tbody tr th {\n",
       "        vertical-align: top;\n",
       "    }\n",
       "\n",
       "    .dataframe thead th {\n",
       "        text-align: right;\n",
       "    }\n",
       "</style>\n",
       "<table border=\"1\" class=\"dataframe\">\n",
       "  <thead>\n",
       "    <tr style=\"text-align: right;\">\n",
       "      <th></th>\n",
       "      <th>carat</th>\n",
       "      <th>depth</th>\n",
       "      <th>table</th>\n",
       "      <th>weight</th>\n",
       "      <th>size</th>\n",
       "      <th>price</th>\n",
       "    </tr>\n",
       "  </thead>\n",
       "  <tbody>\n",
       "    <tr>\n",
       "      <th>0</th>\n",
       "      <td>0.479583</td>\n",
       "      <td>7.842194</td>\n",
       "      <td>7.416198</td>\n",
       "      <td>1.987461</td>\n",
       "      <td>1.994994</td>\n",
       "      <td>18.055470</td>\n",
       "    </tr>\n",
       "    <tr>\n",
       "      <th>1</th>\n",
       "      <td>0.458258</td>\n",
       "      <td>7.733046</td>\n",
       "      <td>7.810250</td>\n",
       "      <td>1.972308</td>\n",
       "      <td>1.959592</td>\n",
       "      <td>18.055470</td>\n",
       "    </tr>\n",
       "    <tr>\n",
       "      <th>2</th>\n",
       "      <td>0.479583</td>\n",
       "      <td>7.543209</td>\n",
       "      <td>8.062258</td>\n",
       "      <td>2.012461</td>\n",
       "      <td>2.017424</td>\n",
       "      <td>18.083141</td>\n",
       "    </tr>\n",
       "    <tr>\n",
       "      <th>3</th>\n",
       "      <td>0.538516</td>\n",
       "      <td>7.899367</td>\n",
       "      <td>7.615773</td>\n",
       "      <td>2.049390</td>\n",
       "      <td>2.056696</td>\n",
       "      <td>18.275667</td>\n",
       "    </tr>\n",
       "    <tr>\n",
       "      <th>4</th>\n",
       "      <td>0.556776</td>\n",
       "      <td>7.956130</td>\n",
       "      <td>7.615773</td>\n",
       "      <td>2.083267</td>\n",
       "      <td>2.085665</td>\n",
       "      <td>18.303005</td>\n",
       "    </tr>\n",
       "  </tbody>\n",
       "</table>\n",
       "</div>"
      ],
      "text/plain": [
       "      carat     depth     table    weight      size      price\n",
       "0  0.479583  7.842194  7.416198  1.987461  1.994994  18.055470\n",
       "1  0.458258  7.733046  7.810250  1.972308  1.959592  18.055470\n",
       "2  0.479583  7.543209  8.062258  2.012461  2.017424  18.083141\n",
       "3  0.538516  7.899367  7.615773  2.049390  2.056696  18.275667\n",
       "4  0.556776  7.956130  7.615773  2.083267  2.085665  18.303005"
      ]
     },
     "execution_count": 15,
     "metadata": {},
     "output_type": "execute_result"
    }
   ],
   "source": [
    "numerical_sqrt_transfrom_df.head()"
   ]
  },
  {
   "cell_type": "code",
   "execution_count": 16,
   "id": "1812d10d-f93f-45d5-aee5-fdbbb1f55b37",
   "metadata": {},
   "outputs": [
    {
     "data": {
      "text/html": [
       "<div>\n",
       "<style scoped>\n",
       "    .dataframe tbody tr th:only-of-type {\n",
       "        vertical-align: middle;\n",
       "    }\n",
       "\n",
       "    .dataframe tbody tr th {\n",
       "        vertical-align: top;\n",
       "    }\n",
       "\n",
       "    .dataframe thead th {\n",
       "        text-align: right;\n",
       "    }\n",
       "</style>\n",
       "<table border=\"1\" class=\"dataframe\">\n",
       "  <thead>\n",
       "    <tr style=\"text-align: right;\">\n",
       "      <th></th>\n",
       "      <th>Skewness</th>\n",
       "      <th>Category</th>\n",
       "    </tr>\n",
       "  </thead>\n",
       "  <tbody>\n",
       "    <tr>\n",
       "      <th>carat</th>\n",
       "      <td>0.548471</td>\n",
       "      <td>Moderately Skewed</td>\n",
       "    </tr>\n",
       "    <tr>\n",
       "      <th>depth</th>\n",
       "      <td>-0.219913</td>\n",
       "      <td>Lightly Skewed</td>\n",
       "    </tr>\n",
       "    <tr>\n",
       "      <th>table</th>\n",
       "      <td>0.692227</td>\n",
       "      <td>Moderately Skewed</td>\n",
       "    </tr>\n",
       "    <tr>\n",
       "      <th>weight</th>\n",
       "      <td>0.088258</td>\n",
       "      <td>Lightly Skewed</td>\n",
       "    </tr>\n",
       "    <tr>\n",
       "      <th>size</th>\n",
       "      <td>0.363648</td>\n",
       "      <td>Lightly Skewed</td>\n",
       "    </tr>\n",
       "    <tr>\n",
       "      <th>price</th>\n",
       "      <td>0.844396</td>\n",
       "      <td>Moderately Skewed</td>\n",
       "    </tr>\n",
       "  </tbody>\n",
       "</table>\n",
       "</div>"
      ],
      "text/plain": [
       "        Skewness           Category\n",
       "carat   0.548471  Moderately Skewed\n",
       "depth  -0.219913     Lightly Skewed\n",
       "table   0.692227  Moderately Skewed\n",
       "weight  0.088258     Lightly Skewed\n",
       "size    0.363648     Lightly Skewed\n",
       "price   0.844396  Moderately Skewed"
      ]
     },
     "execution_count": 16,
     "metadata": {},
     "output_type": "execute_result"
    }
   ],
   "source": [
    "# Checking the skewness of all numerical variables after Sqrt transformation\n",
    "skewness = numerical_sqrt_transfrom_df.skew()\n",
    "skewness_category = skewness.apply(categorize_skewness)\n",
    "# Combining the results into a DataFrame\n",
    "skewness_df = pd.DataFrame({'Skewness': skewness,'Category': skewness_category})\n",
    "skewness_df"
   ]
  },
  {
   "cell_type": "markdown",
   "id": "98f04dac-edf8-46f2-889e-b2fc7c550ca6",
   "metadata": {},
   "source": [
    "###### By using sqrt transformation we get very less skewness in \"weight\" column"
   ]
  },
  {
   "cell_type": "markdown",
   "id": "39d4ef0e-e9ef-43d3-815b-62993d8028ed",
   "metadata": {},
   "source": [
    "### Cube Root Tranformation"
   ]
  },
  {
   "cell_type": "code",
   "execution_count": 17,
   "id": "710788bc-35f6-4032-845c-96201f547944",
   "metadata": {},
   "outputs": [],
   "source": [
    "# Deep copy\n",
    "numerical_cuberoot_transfrom_df = numerical_df.copy()"
   ]
  },
  {
   "cell_type": "code",
   "execution_count": 18,
   "id": "12c1324b-d4bc-4b9f-baa7-8a606ad2c29c",
   "metadata": {},
   "outputs": [],
   "source": [
    "columns_to_cuberoot = ['carat', 'depth', 'table', 'weight', 'size', 'price']\n",
    "numerical_cuberoot_transfrom_df[columns_to_cuberoot] = numerical_cuberoot_transfrom_df[columns_to_cuberoot].apply(np.cbrt)"
   ]
  },
  {
   "cell_type": "code",
   "execution_count": 19,
   "id": "b6d0f0d9-dd29-479d-bfe7-2aa1b7c8f3d9",
   "metadata": {},
   "outputs": [
    {
     "data": {
      "text/html": [
       "<div>\n",
       "<style scoped>\n",
       "    .dataframe tbody tr th:only-of-type {\n",
       "        vertical-align: middle;\n",
       "    }\n",
       "\n",
       "    .dataframe tbody tr th {\n",
       "        vertical-align: top;\n",
       "    }\n",
       "\n",
       "    .dataframe thead th {\n",
       "        text-align: right;\n",
       "    }\n",
       "</style>\n",
       "<table border=\"1\" class=\"dataframe\">\n",
       "  <thead>\n",
       "    <tr style=\"text-align: right;\">\n",
       "      <th></th>\n",
       "      <th>carat</th>\n",
       "      <th>depth</th>\n",
       "      <th>table</th>\n",
       "      <th>weight</th>\n",
       "      <th>size</th>\n",
       "      <th>price</th>\n",
       "    </tr>\n",
       "  </thead>\n",
       "  <tbody>\n",
       "    <tr>\n",
       "      <th>0</th>\n",
       "      <td>0.612693</td>\n",
       "      <td>3.947223</td>\n",
       "      <td>3.802952</td>\n",
       "      <td>1.580759</td>\n",
       "      <td>1.584751</td>\n",
       "      <td>6.882389</td>\n",
       "    </tr>\n",
       "    <tr>\n",
       "      <th>1</th>\n",
       "      <td>0.594392</td>\n",
       "      <td>3.910513</td>\n",
       "      <td>3.936497</td>\n",
       "      <td>1.572714</td>\n",
       "      <td>1.565947</td>\n",
       "      <td>6.882389</td>\n",
       "    </tr>\n",
       "    <tr>\n",
       "      <th>2</th>\n",
       "      <td>0.612693</td>\n",
       "      <td>3.846249</td>\n",
       "      <td>4.020726</td>\n",
       "      <td>1.593988</td>\n",
       "      <td>1.596607</td>\n",
       "      <td>6.889419</td>\n",
       "    </tr>\n",
       "    <tr>\n",
       "      <th>3</th>\n",
       "      <td>0.661911</td>\n",
       "      <td>3.966385</td>\n",
       "      <td>3.870877</td>\n",
       "      <td>1.613429</td>\n",
       "      <td>1.617261</td>\n",
       "      <td>6.938232</td>\n",
       "    </tr>\n",
       "    <tr>\n",
       "      <th>4</th>\n",
       "      <td>0.676790</td>\n",
       "      <td>3.985363</td>\n",
       "      <td>3.870877</td>\n",
       "      <td>1.631160</td>\n",
       "      <td>1.632412</td>\n",
       "      <td>6.945150</td>\n",
       "    </tr>\n",
       "  </tbody>\n",
       "</table>\n",
       "</div>"
      ],
      "text/plain": [
       "      carat     depth     table    weight      size     price\n",
       "0  0.612693  3.947223  3.802952  1.580759  1.584751  6.882389\n",
       "1  0.594392  3.910513  3.936497  1.572714  1.565947  6.882389\n",
       "2  0.612693  3.846249  4.020726  1.593988  1.596607  6.889419\n",
       "3  0.661911  3.966385  3.870877  1.613429  1.617261  6.938232\n",
       "4  0.676790  3.985363  3.870877  1.631160  1.632412  6.945150"
      ]
     },
     "execution_count": 19,
     "metadata": {},
     "output_type": "execute_result"
    }
   ],
   "source": [
    "numerical_cuberoot_transfrom_df.head()"
   ]
  },
  {
   "cell_type": "code",
   "execution_count": 20,
   "id": "6a3c81d6-c598-45e9-8351-06fc31796779",
   "metadata": {},
   "outputs": [
    {
     "data": {
      "text/html": [
       "<div>\n",
       "<style scoped>\n",
       "    .dataframe tbody tr th:only-of-type {\n",
       "        vertical-align: middle;\n",
       "    }\n",
       "\n",
       "    .dataframe tbody tr th {\n",
       "        vertical-align: top;\n",
       "    }\n",
       "\n",
       "    .dataframe thead th {\n",
       "        text-align: right;\n",
       "    }\n",
       "</style>\n",
       "<table border=\"1\" class=\"dataframe\">\n",
       "  <thead>\n",
       "    <tr style=\"text-align: right;\">\n",
       "      <th></th>\n",
       "      <th>Skewness</th>\n",
       "      <th>Category</th>\n",
       "    </tr>\n",
       "  </thead>\n",
       "  <tbody>\n",
       "    <tr>\n",
       "      <th>carat</th>\n",
       "      <td>0.386589</td>\n",
       "      <td>Lightly Skewed</td>\n",
       "    </tr>\n",
       "    <tr>\n",
       "      <th>depth</th>\n",
       "      <td>-0.267034</td>\n",
       "      <td>Lightly Skewed</td>\n",
       "    </tr>\n",
       "    <tr>\n",
       "      <th>table</th>\n",
       "      <td>0.660170</td>\n",
       "      <td>Moderately Skewed</td>\n",
       "    </tr>\n",
       "    <tr>\n",
       "      <th>weight</th>\n",
       "      <td>-0.322953</td>\n",
       "      <td>Lightly Skewed</td>\n",
       "    </tr>\n",
       "    <tr>\n",
       "      <th>size</th>\n",
       "      <td>-0.132075</td>\n",
       "      <td>Lightly Skewed</td>\n",
       "    </tr>\n",
       "    <tr>\n",
       "      <th>price</th>\n",
       "      <td>0.591189</td>\n",
       "      <td>Moderately Skewed</td>\n",
       "    </tr>\n",
       "  </tbody>\n",
       "</table>\n",
       "</div>"
      ],
      "text/plain": [
       "        Skewness           Category\n",
       "carat   0.386589     Lightly Skewed\n",
       "depth  -0.267034     Lightly Skewed\n",
       "table   0.660170  Moderately Skewed\n",
       "weight -0.322953     Lightly Skewed\n",
       "size   -0.132075     Lightly Skewed\n",
       "price   0.591189  Moderately Skewed"
      ]
     },
     "execution_count": 20,
     "metadata": {},
     "output_type": "execute_result"
    }
   ],
   "source": [
    "# Checking the skewness of all numerical variables after Sqrt transformation\n",
    "skewness = numerical_cuberoot_transfrom_df.skew()\n",
    "skewness_category = skewness.apply(categorize_skewness)\n",
    "# Combining the results into a DataFrame\n",
    "skewness_df = pd.DataFrame({'Skewness': skewness,'Category': skewness_category})\n",
    "skewness_df"
   ]
  },
  {
   "cell_type": "markdown",
   "id": "a7a38733-fa61-496e-9e12-2b6eaf4783a6",
   "metadata": {},
   "source": [
    "### BoxCox Tranformation"
   ]
  },
  {
   "cell_type": "code",
   "execution_count": 21,
   "id": "6748ab28-b9ec-418e-b61b-025665c82d11",
   "metadata": {},
   "outputs": [],
   "source": [
    "# Deep copy\n",
    "numerical_boxcox_transfrom_df = numerical_df.copy()"
   ]
  },
  {
   "cell_type": "code",
   "execution_count": 22,
   "id": "c6b0a24e-117f-45a4-a691-3126842ad649",
   "metadata": {},
   "outputs": [],
   "source": [
    "# Define a function to apply Box-Cox to each column\n",
    "def boxcox_transform(column):\n",
    "    # Adding 1 in case there are any zeros, as Box-Cox requires positive values\n",
    "    transformed_data, _ = boxcox(column + 1)\n",
    "    return transformed_data"
   ]
  },
  {
   "cell_type": "code",
   "execution_count": 23,
   "id": "48b6af1f-4783-4af4-a365-5502f59c5d73",
   "metadata": {},
   "outputs": [],
   "source": [
    "# Apply the Box-Cox transformation to multiple columns\n",
    "numerical_boxcox_transfrom_df = numerical_boxcox_transfrom_df.apply(boxcox_transform, axis=0)"
   ]
  },
  {
   "cell_type": "code",
   "execution_count": 24,
   "id": "120cc88c-03e5-49a6-93ce-6095b4fac489",
   "metadata": {},
   "outputs": [
    {
     "data": {
      "text/html": [
       "<div>\n",
       "<style scoped>\n",
       "    .dataframe tbody tr th:only-of-type {\n",
       "        vertical-align: middle;\n",
       "    }\n",
       "\n",
       "    .dataframe tbody tr th {\n",
       "        vertical-align: top;\n",
       "    }\n",
       "\n",
       "    .dataframe thead th {\n",
       "        text-align: right;\n",
       "    }\n",
       "</style>\n",
       "<table border=\"1\" class=\"dataframe\">\n",
       "  <thead>\n",
       "    <tr style=\"text-align: right;\">\n",
       "      <th></th>\n",
       "      <th>carat</th>\n",
       "      <th>depth</th>\n",
       "      <th>table</th>\n",
       "      <th>weight</th>\n",
       "      <th>size</th>\n",
       "      <th>price</th>\n",
       "    </tr>\n",
       "  </thead>\n",
       "  <tbody>\n",
       "    <tr>\n",
       "      <th>0</th>\n",
       "      <td>0.182396</td>\n",
       "      <td>416.357392</td>\n",
       "      <td>0.236713</td>\n",
       "      <td>1.736710</td>\n",
       "      <td>1.595582</td>\n",
       "      <td>4.793885</td>\n",
       "    </tr>\n",
       "    <tr>\n",
       "      <th>1</th>\n",
       "      <td>0.169610</td>\n",
       "      <td>398.713992</td>\n",
       "      <td>0.236713</td>\n",
       "      <td>1.722371</td>\n",
       "      <td>1.567412</td>\n",
       "      <td>4.793885</td>\n",
       "    </tr>\n",
       "    <tr>\n",
       "      <th>2</th>\n",
       "      <td>0.182396</td>\n",
       "      <td>369.259594</td>\n",
       "      <td>0.236713</td>\n",
       "      <td>1.760264</td>\n",
       "      <td>1.613272</td>\n",
       "      <td>4.795951</td>\n",
       "    </tr>\n",
       "    <tr>\n",
       "      <th>3</th>\n",
       "      <td>0.218091</td>\n",
       "      <td>425.809380</td>\n",
       "      <td>0.236713</td>\n",
       "      <td>1.794822</td>\n",
       "      <td>1.643954</td>\n",
       "      <td>4.810232</td>\n",
       "    </tr>\n",
       "    <tr>\n",
       "      <th>4</th>\n",
       "      <td>0.229174</td>\n",
       "      <td>435.337850</td>\n",
       "      <td>0.236713</td>\n",
       "      <td>1.826278</td>\n",
       "      <td>1.666351</td>\n",
       "      <td>4.812246</td>\n",
       "    </tr>\n",
       "  </tbody>\n",
       "</table>\n",
       "</div>"
      ],
      "text/plain": [
       "      carat       depth     table    weight      size     price\n",
       "0  0.182396  416.357392  0.236713  1.736710  1.595582  4.793885\n",
       "1  0.169610  398.713992  0.236713  1.722371  1.567412  4.793885\n",
       "2  0.182396  369.259594  0.236713  1.760264  1.613272  4.795951\n",
       "3  0.218091  425.809380  0.236713  1.794822  1.643954  4.810232\n",
       "4  0.229174  435.337850  0.236713  1.826278  1.666351  4.812246"
      ]
     },
     "execution_count": 24,
     "metadata": {},
     "output_type": "execute_result"
    }
   ],
   "source": [
    "numerical_boxcox_transfrom_df.head()"
   ]
  },
  {
   "cell_type": "code",
   "execution_count": 25,
   "id": "117518e9-3a11-481f-bfaa-522736399bb8",
   "metadata": {},
   "outputs": [
    {
     "data": {
      "text/html": [
       "<div>\n",
       "<style scoped>\n",
       "    .dataframe tbody tr th:only-of-type {\n",
       "        vertical-align: middle;\n",
       "    }\n",
       "\n",
       "    .dataframe tbody tr th {\n",
       "        vertical-align: top;\n",
       "    }\n",
       "\n",
       "    .dataframe thead th {\n",
       "        text-align: right;\n",
       "    }\n",
       "</style>\n",
       "<table border=\"1\" class=\"dataframe\">\n",
       "  <thead>\n",
       "    <tr style=\"text-align: right;\">\n",
       "      <th></th>\n",
       "      <th>Skewness</th>\n",
       "      <th>Category</th>\n",
       "    </tr>\n",
       "  </thead>\n",
       "  <tbody>\n",
       "    <tr>\n",
       "      <th>carat</th>\n",
       "      <td>0.117887</td>\n",
       "      <td>Lightly Skewed</td>\n",
       "    </tr>\n",
       "    <tr>\n",
       "      <th>depth</th>\n",
       "      <td>0.068120</td>\n",
       "      <td>Lightly Skewed</td>\n",
       "    </tr>\n",
       "    <tr>\n",
       "      <th>table</th>\n",
       "      <td>0.000000</td>\n",
       "      <td>Lightly Skewed</td>\n",
       "    </tr>\n",
       "    <tr>\n",
       "      <th>weight</th>\n",
       "      <td>0.004618</td>\n",
       "      <td>Lightly Skewed</td>\n",
       "    </tr>\n",
       "    <tr>\n",
       "      <th>size</th>\n",
       "      <td>-0.000807</td>\n",
       "      <td>Lightly Skewed</td>\n",
       "    </tr>\n",
       "    <tr>\n",
       "      <th>price</th>\n",
       "      <td>0.025726</td>\n",
       "      <td>Lightly Skewed</td>\n",
       "    </tr>\n",
       "  </tbody>\n",
       "</table>\n",
       "</div>"
      ],
      "text/plain": [
       "        Skewness        Category\n",
       "carat   0.117887  Lightly Skewed\n",
       "depth   0.068120  Lightly Skewed\n",
       "table   0.000000  Lightly Skewed\n",
       "weight  0.004618  Lightly Skewed\n",
       "size   -0.000807  Lightly Skewed\n",
       "price   0.025726  Lightly Skewed"
      ]
     },
     "execution_count": 25,
     "metadata": {},
     "output_type": "execute_result"
    }
   ],
   "source": [
    "# Checking the skewness of all numerical variables after Sqrt transformation\n",
    "skewness = numerical_boxcox_transfrom_df.skew()\n",
    "skewness_category = skewness.apply(categorize_skewness)\n",
    "# Combining the results into a DataFrame\n",
    "skewness_df = pd.DataFrame({'Skewness': skewness,'Category': skewness_category})\n",
    "skewness_df"
   ]
  },
  {
   "cell_type": "markdown",
   "id": "300152de-106a-4d79-b0f8-4c6285284cc1",
   "metadata": {},
   "source": [
    "###### By using Boxcox transformation we get very less skewness in all the columns"
   ]
  },
  {
   "cell_type": "markdown",
   "id": "a8d36472-bbed-45b3-8f14-4ceed46f84e4",
   "metadata": {},
   "source": [
    "### Create a user defined function in python to check the outliers using IQR method. Then pass all numeric variables in that function to check outliers"
   ]
  },
  {
   "cell_type": "code",
   "execution_count": 26,
   "id": "5e0efa37-d47e-4965-931c-b48657cf5fdf",
   "metadata": {},
   "outputs": [],
   "source": [
    "def detect_outliers_iqr(df):\n",
    "    outliers_dict = []\n",
    "    \n",
    "    # Loop through all columns in the DataFrame\n",
    "    for column in df.select_dtypes(include=[np.number]).columns:\n",
    "        # Calculate Q1 (25th percentile) and Q3 (75th percentile)\n",
    "        Q1 = df[column].quantile(0.25)\n",
    "        Q3 = df[column].quantile(0.75)\n",
    "        \n",
    "        # Calculate IQR\n",
    "        IQR = Q3 - Q1\n",
    "        \n",
    "        # Determine outlier step\n",
    "        outlier_step = 1.5 * IQR\n",
    "        print(\"BoxPlot details for {}\".format(column))\n",
    "        print(\"Lower limit is  : {}\".format(Q1 - outlier_step)) # zeroth Percentile or minimum value\n",
    "        print(\"1st quartile is : {}\".format(np.percentile(df[column], 25))) # 1st quartile\n",
    "        print(\"Median is       : {}\".format(np.percentile(df[column], 50))) # 2nd quartile or median\n",
    "        print(\"3rd quartile is : {}\".format(np.percentile(df[column], 75))) # 3rd quartile\n",
    "        print(\"Upper limit is  : {}\".format(Q3 + outlier_step)) # 100th Percentile or maximum value\n",
    "        # Get outliers' indices and values\n",
    "        outliers = df[(df[column] < Q1 - outlier_step) | (df[column] > Q3 + outlier_step)]\n",
    "        \n",
    "        if not outliers.empty:\n",
    "            # Store the column, index, and value in the list\n",
    "            for idx, value in outliers[column].items():\n",
    "                outliers_dict.append({'Column': column, 'Index': idx, 'Outlier Value': value})\n",
    "    \n",
    "    # Convert the list of outliers to a DataFrame\n",
    "    outliers_df = pd.DataFrame(outliers_dict)\n",
    "    \n",
    "    return outliers_df"
   ]
  },
  {
   "cell_type": "markdown",
   "id": "40ea9315-0584-40cc-a1c3-4c78e74bcbce",
   "metadata": {},
   "source": [
    "##### Passing the column one by one"
   ]
  },
  {
   "cell_type": "code",
   "execution_count": 27,
   "id": "044c2288-5a5b-4f91-b853-914ba27e5349",
   "metadata": {},
   "outputs": [
    {
     "name": "stdout",
     "output_type": "stream",
     "text": [
      "BoxPlot details for carat\n",
      "Lower limit is  : -0.5599999999999999\n",
      "1st quartile is : 0.4\n",
      "Median is       : 0.7\n",
      "3rd quartile is : 1.04\n",
      "Upper limit is  : 2.0\n"
     ]
    },
    {
     "data": {
      "text/plain": [
       "(1889, 3)"
      ]
     },
     "execution_count": 27,
     "metadata": {},
     "output_type": "execute_result"
    }
   ],
   "source": [
    "outliers = detect_outliers_iqr(numerical_df[['carat']])\n",
    "outliers.shape"
   ]
  },
  {
   "cell_type": "code",
   "execution_count": 28,
   "id": "188908be-0d58-4a1b-9fe9-b76e236984d1",
   "metadata": {},
   "outputs": [
    {
     "name": "stdout",
     "output_type": "stream",
     "text": [
      "BoxPlot details for depth\n",
      "Lower limit is  : 58.75\n",
      "1st quartile is : 61.0\n",
      "Median is       : 61.8\n",
      "3rd quartile is : 62.5\n",
      "Upper limit is  : 64.75\n"
     ]
    },
    {
     "data": {
      "text/plain": [
       "(2545, 3)"
      ]
     },
     "execution_count": 28,
     "metadata": {},
     "output_type": "execute_result"
    }
   ],
   "source": [
    "outliers = detect_outliers_iqr(numerical_df[['depth']])\n",
    "outliers.shape"
   ]
  },
  {
   "cell_type": "code",
   "execution_count": 29,
   "id": "910dfa38-cc4e-4fee-a884-b15090adda54",
   "metadata": {},
   "outputs": [
    {
     "name": "stdout",
     "output_type": "stream",
     "text": [
      "BoxPlot details for table\n",
      "Lower limit is  : 51.5\n",
      "1st quartile is : 56.0\n",
      "Median is       : 57.0\n",
      "3rd quartile is : 59.0\n",
      "Upper limit is  : 63.5\n"
     ]
    },
    {
     "data": {
      "text/plain": [
       "(605, 3)"
      ]
     },
     "execution_count": 29,
     "metadata": {},
     "output_type": "execute_result"
    }
   ],
   "source": [
    "outliers = detect_outliers_iqr(numerical_df[['table']])\n",
    "outliers.shape"
   ]
  },
  {
   "cell_type": "code",
   "execution_count": 30,
   "id": "e0617165-14e7-41c7-b7e9-b49205737426",
   "metadata": {},
   "outputs": [
    {
     "name": "stdout",
     "output_type": "stream",
     "text": [
      "BoxPlot details for size\n",
      "Lower limit is  : 1.9899999999999993\n",
      "1st quartile is : 4.72\n",
      "Median is       : 5.71\n",
      "3rd quartile is : 6.54\n",
      "Upper limit is  : 9.27\n"
     ]
    },
    {
     "data": {
      "text/plain": [
       "(29, 3)"
      ]
     },
     "execution_count": 30,
     "metadata": {},
     "output_type": "execute_result"
    }
   ],
   "source": [
    "outliers = detect_outliers_iqr(numerical_df[['size']])\n",
    "outliers.shape"
   ]
  },
  {
   "cell_type": "code",
   "execution_count": 31,
   "id": "36ed83ae-65d1-4d5a-9fee-29bdef41c031",
   "metadata": {},
   "outputs": [
    {
     "name": "stdout",
     "output_type": "stream",
     "text": [
      "BoxPlot details for price\n",
      "Lower limit is  : -5611.375\n",
      "1st quartile is : 950.0\n",
      "Median is       : 2401.0\n",
      "3rd quartile is : 5324.25\n",
      "Upper limit is  : 11885.625\n"
     ]
    },
    {
     "data": {
      "text/plain": [
       "(3540, 3)"
      ]
     },
     "execution_count": 31,
     "metadata": {},
     "output_type": "execute_result"
    }
   ],
   "source": [
    "outliers = detect_outliers_iqr(numerical_df[['price']])\n",
    "outliers.shape"
   ]
  },
  {
   "cell_type": "markdown",
   "id": "4f84fe3c-15c9-4611-a2ec-ba0f6ac6908f",
   "metadata": {},
   "source": [
    "##### Passing the numerical dataframe"
   ]
  },
  {
   "cell_type": "code",
   "execution_count": 32,
   "id": "411f5fa7-42b1-4a94-99db-e686568460c9",
   "metadata": {},
   "outputs": [
    {
     "name": "stdout",
     "output_type": "stream",
     "text": [
      "BoxPlot details for carat\n",
      "Lower limit is  : -0.5599999999999999\n",
      "1st quartile is : 0.4\n",
      "Median is       : 0.7\n",
      "3rd quartile is : 1.04\n",
      "Upper limit is  : 2.0\n",
      "BoxPlot details for depth\n",
      "Lower limit is  : 58.75\n",
      "1st quartile is : 61.0\n",
      "Median is       : 61.8\n",
      "3rd quartile is : 62.5\n",
      "Upper limit is  : 64.75\n",
      "BoxPlot details for table\n",
      "Lower limit is  : 51.5\n",
      "1st quartile is : 56.0\n",
      "Median is       : 57.0\n",
      "3rd quartile is : 59.0\n",
      "Upper limit is  : 63.5\n",
      "BoxPlot details for weight\n",
      "Lower limit is  : 1.9649999999999999\n",
      "1st quartile is : 4.71\n",
      "Median is       : 5.7\n",
      "3rd quartile is : 6.54\n",
      "Upper limit is  : 9.285\n",
      "BoxPlot details for size\n",
      "Lower limit is  : 1.9899999999999993\n",
      "1st quartile is : 4.72\n",
      "Median is       : 5.71\n",
      "3rd quartile is : 6.54\n",
      "Upper limit is  : 9.27\n",
      "BoxPlot details for price\n",
      "Lower limit is  : -5611.375\n",
      "1st quartile is : 950.0\n",
      "Median is       : 2401.0\n",
      "3rd quartile is : 5324.25\n",
      "Upper limit is  : 11885.625\n"
     ]
    },
    {
     "data": {
      "text/plain": [
       "(8640, 3)"
      ]
     },
     "execution_count": 32,
     "metadata": {},
     "output_type": "execute_result"
    }
   ],
   "source": [
    "outliers = detect_outliers_iqr(numerical_df)\n",
    "outliers.shape"
   ]
  },
  {
   "cell_type": "markdown",
   "id": "44b2d007-8737-4e73-ae2a-6fae4281c600",
   "metadata": {},
   "source": [
    "#### Passing the column one by one after applying boxcox transformation"
   ]
  },
  {
   "cell_type": "code",
   "execution_count": 33,
   "id": "5132335a-9e04-48e2-9c2e-345cc454fd4f",
   "metadata": {},
   "outputs": [
    {
     "name": "stdout",
     "output_type": "stream",
     "text": [
      "BoxPlot details for carat\n",
      "Lower limit is  : -0.021103445269345822\n",
      "1st quartile is : 0.27466773966657376\n",
      "Median is       : 0.3878644724968774\n",
      "3rd quartile is : 0.4718485296238535\n",
      "Upper limit is  : 0.7676197145597731\n"
     ]
    },
    {
     "data": {
      "text/plain": [
       "(0, 0)"
      ]
     },
     "execution_count": 33,
     "metadata": {},
     "output_type": "execute_result"
    }
   ],
   "source": [
    "outliers = detect_outliers_iqr(numerical_boxcox_transfrom_df[['carat']])\n",
    "outliers.shape"
   ]
  },
  {
   "cell_type": "code",
   "execution_count": 34,
   "id": "ae41b838-a025-4188-9da2-78be02eb35b9",
   "metadata": {},
   "outputs": [
    {
     "name": "stdout",
     "output_type": "stream",
     "text": [
      "BoxPlot details for depth\n",
      "Lower limit is  : 387.55227630512036\n",
      "1st quartile is : 411.1395090635429\n",
      "Median is       : 419.49952792959675\n",
      "3rd quartile is : 426.86433090249125\n",
      "Upper limit is  : 450.45156366091373\n"
     ]
    },
    {
     "data": {
      "text/plain": [
       "(2545, 3)"
      ]
     },
     "execution_count": 34,
     "metadata": {},
     "output_type": "execute_result"
    }
   ],
   "source": [
    "outliers = detect_outliers_iqr(numerical_boxcox_transfrom_df[['depth']])\n",
    "outliers.shape"
   ]
  },
  {
   "cell_type": "code",
   "execution_count": 37,
   "id": "74e9b2b3-46b1-4850-8d70-d45ce0740e32",
   "metadata": {},
   "outputs": [
    {
     "name": "stdout",
     "output_type": "stream",
     "text": [
      "BoxPlot details for table\n",
      "Lower limit is  : 0.2367127642880396\n",
      "1st quartile is : 0.23671276693168505\n",
      "Median is       : 0.2367127675725141\n",
      "3rd quartile is : 0.23671276869411534\n",
      "Upper limit is  : 0.23671277133776075\n"
     ]
    },
    {
     "data": {
      "text/plain": [
       "(254, 3)"
      ]
     },
     "execution_count": 37,
     "metadata": {},
     "output_type": "execute_result"
    }
   ],
   "source": [
    "outliers = detect_outliers_iqr(numerical_boxcox_transfrom_df[['table']])\n",
    "outliers.shape"
   ]
  },
  {
   "cell_type": "code",
   "execution_count": 38,
   "id": "9c90060e-3c83-47e9-8887-840b575ca7f1",
   "metadata": {},
   "outputs": [
    {
     "name": "stdout",
     "output_type": "stream",
     "text": [
      "BoxPlot details for size\n",
      "Lower limit is  : 1.3239129723382392\n",
      "1st quartile is : 1.732351587061773\n",
      "Median is       : 1.8897633276740597\n",
      "3rd quartile is : 2.004643996877462\n",
      "Upper limit is  : 2.413082611600996\n"
     ]
    },
    {
     "data": {
      "text/plain": [
       "(10, 3)"
      ]
     },
     "execution_count": 38,
     "metadata": {},
     "output_type": "execute_result"
    }
   ],
   "source": [
    "outliers = detect_outliers_iqr(numerical_boxcox_transfrom_df[['size']])\n",
    "outliers.shape"
   ]
  },
  {
   "cell_type": "code",
   "execution_count": 39,
   "id": "9a5d6525-5344-4e31-8b64-d61327586e8f",
   "metadata": {},
   "outputs": [
    {
     "name": "stdout",
     "output_type": "stream",
     "text": [
      "BoxPlot details for price\n",
      "Lower limit is  : 3.954370586419233\n",
      "1st quartile is : 5.491118606943071\n",
      "Median is       : 6.056896626175227\n",
      "3rd quartile is : 6.515617287292296\n",
      "Upper limit is  : 8.052365307816135\n"
     ]
    },
    {
     "data": {
      "text/plain": [
       "(0, 0)"
      ]
     },
     "execution_count": 39,
     "metadata": {},
     "output_type": "execute_result"
    }
   ],
   "source": [
    "outliers = detect_outliers_iqr(numerical_boxcox_transfrom_df[['price']])\n",
    "outliers.shape"
   ]
  },
  {
   "cell_type": "markdown",
   "id": "f8230a72-af12-4be5-ac88-73853cff03e6",
   "metadata": {},
   "source": [
    "###### Except for the 'depth' column, outliers in the other columns were significantly reduced after applying the Box-Cox transformation"
   ]
  },
  {
   "cell_type": "markdown",
   "id": "e8c17a76-0226-4acc-8e77-dd2f443a2f97",
   "metadata": {},
   "source": [
    "### Convert categorical variables into numerical variables using LabelEncoder technique"
   ]
  },
  {
   "cell_type": "code",
   "execution_count": 40,
   "id": "8d8dae61-c6d2-4b12-9f7d-2c716a9938d3",
   "metadata": {},
   "outputs": [],
   "source": [
    "from sklearn.preprocessing import LabelEncoder\n",
    "le = LabelEncoder()"
   ]
  },
  {
   "cell_type": "code",
   "execution_count": 41,
   "id": "d46a60d0-cd2a-49d9-b26f-3e51c017595f",
   "metadata": {},
   "outputs": [
    {
     "data": {
      "text/html": [
       "<div>\n",
       "<style scoped>\n",
       "    .dataframe tbody tr th:only-of-type {\n",
       "        vertical-align: middle;\n",
       "    }\n",
       "\n",
       "    .dataframe tbody tr th {\n",
       "        vertical-align: top;\n",
       "    }\n",
       "\n",
       "    .dataframe thead th {\n",
       "        text-align: right;\n",
       "    }\n",
       "</style>\n",
       "<table border=\"1\" class=\"dataframe\">\n",
       "  <thead>\n",
       "    <tr style=\"text-align: right;\">\n",
       "      <th></th>\n",
       "      <th>cut</th>\n",
       "      <th>color</th>\n",
       "      <th>clarity</th>\n",
       "    </tr>\n",
       "  </thead>\n",
       "  <tbody>\n",
       "    <tr>\n",
       "      <th>0</th>\n",
       "      <td>Ideal</td>\n",
       "      <td>E</td>\n",
       "      <td>SI2</td>\n",
       "    </tr>\n",
       "    <tr>\n",
       "      <th>1</th>\n",
       "      <td>Premium</td>\n",
       "      <td>E</td>\n",
       "      <td>SI1</td>\n",
       "    </tr>\n",
       "    <tr>\n",
       "      <th>2</th>\n",
       "      <td>Good</td>\n",
       "      <td>E</td>\n",
       "      <td>VS1</td>\n",
       "    </tr>\n",
       "    <tr>\n",
       "      <th>3</th>\n",
       "      <td>Premium</td>\n",
       "      <td>I</td>\n",
       "      <td>VS2</td>\n",
       "    </tr>\n",
       "    <tr>\n",
       "      <th>4</th>\n",
       "      <td>Good</td>\n",
       "      <td>J</td>\n",
       "      <td>SI2</td>\n",
       "    </tr>\n",
       "  </tbody>\n",
       "</table>\n",
       "</div>"
      ],
      "text/plain": [
       "       cut color clarity\n",
       "0    Ideal     E     SI2\n",
       "1  Premium     E     SI1\n",
       "2     Good     E     VS1\n",
       "3  Premium     I     VS2\n",
       "4     Good     J     SI2"
      ]
     },
     "execution_count": 41,
     "metadata": {},
     "output_type": "execute_result"
    }
   ],
   "source": [
    "categorical_df.head()"
   ]
  },
  {
   "cell_type": "code",
   "execution_count": 42,
   "id": "d07daa22-2d81-46a1-9587-332ac5c6fa19",
   "metadata": {},
   "outputs": [
    {
     "data": {
      "text/plain": [
       "{'cut': array(['Ideal', 'Premium', 'Good', 'Very Good', 'Fair'], dtype=object),\n",
       " 'color': array(['E', 'I', 'J', 'H', 'F', 'G', 'D'], dtype=object),\n",
       " 'clarity': array(['SI2', 'SI1', 'VS1', 'VS2', 'VVS2', 'VVS1', 'I1', 'IF'],\n",
       "       dtype=object)}"
      ]
     },
     "execution_count": 42,
     "metadata": {},
     "output_type": "execute_result"
    }
   ],
   "source": [
    "columns_to_check = categorical_df.columns\n",
    "unique_values = {column: categorical_df[column].unique() for column in columns_to_check }\n",
    "unique_values"
   ]
  },
  {
   "cell_type": "code",
   "execution_count": 43,
   "id": "324c21ce-5ac9-49b6-bb9e-8116e791ee8b",
   "metadata": {},
   "outputs": [],
   "source": [
    "# Deep copy\n",
    "categorical_label_encode_transfrom_df = categorical_df.copy()"
   ]
  },
  {
   "cell_type": "code",
   "execution_count": 44,
   "id": "6ea1755b-2a94-437d-a44c-2d1305f76945",
   "metadata": {},
   "outputs": [],
   "source": [
    "columns_to_encode = categorical_df.columns\n",
    "for column in columns_to_encode:\n",
    "    categorical_label_encode_transfrom_df[column] = le.fit_transform(categorical_label_encode_transfrom_df[column])"
   ]
  },
  {
   "cell_type": "code",
   "execution_count": 45,
   "id": "c009b042-a477-47b4-893d-c1e6ede66f2a",
   "metadata": {},
   "outputs": [
    {
     "data": {
      "text/html": [
       "<div>\n",
       "<style scoped>\n",
       "    .dataframe tbody tr th:only-of-type {\n",
       "        vertical-align: middle;\n",
       "    }\n",
       "\n",
       "    .dataframe tbody tr th {\n",
       "        vertical-align: top;\n",
       "    }\n",
       "\n",
       "    .dataframe thead th {\n",
       "        text-align: right;\n",
       "    }\n",
       "</style>\n",
       "<table border=\"1\" class=\"dataframe\">\n",
       "  <thead>\n",
       "    <tr style=\"text-align: right;\">\n",
       "      <th></th>\n",
       "      <th>cut</th>\n",
       "      <th>color</th>\n",
       "      <th>clarity</th>\n",
       "    </tr>\n",
       "  </thead>\n",
       "  <tbody>\n",
       "    <tr>\n",
       "      <th>0</th>\n",
       "      <td>2</td>\n",
       "      <td>1</td>\n",
       "      <td>3</td>\n",
       "    </tr>\n",
       "    <tr>\n",
       "      <th>1</th>\n",
       "      <td>3</td>\n",
       "      <td>1</td>\n",
       "      <td>2</td>\n",
       "    </tr>\n",
       "    <tr>\n",
       "      <th>2</th>\n",
       "      <td>1</td>\n",
       "      <td>1</td>\n",
       "      <td>4</td>\n",
       "    </tr>\n",
       "    <tr>\n",
       "      <th>3</th>\n",
       "      <td>3</td>\n",
       "      <td>5</td>\n",
       "      <td>5</td>\n",
       "    </tr>\n",
       "    <tr>\n",
       "      <th>4</th>\n",
       "      <td>1</td>\n",
       "      <td>6</td>\n",
       "      <td>3</td>\n",
       "    </tr>\n",
       "  </tbody>\n",
       "</table>\n",
       "</div>"
      ],
      "text/plain": [
       "   cut  color  clarity\n",
       "0    2      1        3\n",
       "1    3      1        2\n",
       "2    1      1        4\n",
       "3    3      5        5\n",
       "4    1      6        3"
      ]
     },
     "execution_count": 45,
     "metadata": {},
     "output_type": "execute_result"
    }
   ],
   "source": [
    "categorical_label_encode_transfrom_df.head()"
   ]
  },
  {
   "cell_type": "markdown",
   "id": "87ad943a-7f34-4d25-8159-7e410f6f0364",
   "metadata": {},
   "source": [
    "### Use both the feature scaling techniques (standardscaler/min max scaler) on all the variables."
   ]
  },
  {
   "cell_type": "code",
   "execution_count": 46,
   "id": "44c6f0e3-513e-4f30-b56a-82a5f3f7b2ec",
   "metadata": {},
   "outputs": [],
   "source": [
    "from sklearn.preprocessing import StandardScaler, MinMaxScaler\n",
    "# Initializing Scalers\n",
    "scaler_standard = StandardScaler()\n",
    "scaler_minmax = MinMaxScaler()\n",
    "\n",
    "# Applying StandardScaler\n",
    "df_standard_scaled = pd.DataFrame(scaler_standard.fit_transform(numerical_df),columns=numerical_df.columns)\n",
    "\n",
    "# Applying MinMaxScaler\n",
    "df_minmax_scaled = pd.DataFrame(scaler_minmax.fit_transform(numerical_df),columns=numerical_df.columns)"
   ]
  },
  {
   "cell_type": "code",
   "execution_count": 47,
   "id": "3706469b-a900-4382-9d41-5dfb8f828b18",
   "metadata": {},
   "outputs": [
    {
     "data": {
      "text/html": [
       "<div>\n",
       "<style scoped>\n",
       "    .dataframe tbody tr th:only-of-type {\n",
       "        vertical-align: middle;\n",
       "    }\n",
       "\n",
       "    .dataframe tbody tr th {\n",
       "        vertical-align: top;\n",
       "    }\n",
       "\n",
       "    .dataframe thead th {\n",
       "        text-align: right;\n",
       "    }\n",
       "</style>\n",
       "<table border=\"1\" class=\"dataframe\">\n",
       "  <thead>\n",
       "    <tr style=\"text-align: right;\">\n",
       "      <th></th>\n",
       "      <th>carat</th>\n",
       "      <th>depth</th>\n",
       "      <th>table</th>\n",
       "      <th>weight</th>\n",
       "      <th>size</th>\n",
       "      <th>price</th>\n",
       "    </tr>\n",
       "  </thead>\n",
       "  <tbody>\n",
       "    <tr>\n",
       "      <th>0</th>\n",
       "      <td>-1.198168</td>\n",
       "      <td>-0.174092</td>\n",
       "      <td>-1.099672</td>\n",
       "      <td>-1.587837</td>\n",
       "      <td>-1.536196</td>\n",
       "      <td>-0.904095</td>\n",
       "    </tr>\n",
       "    <tr>\n",
       "      <th>1</th>\n",
       "      <td>-1.240361</td>\n",
       "      <td>-1.360738</td>\n",
       "      <td>1.585529</td>\n",
       "      <td>-1.641325</td>\n",
       "      <td>-1.658774</td>\n",
       "      <td>-0.904095</td>\n",
       "    </tr>\n",
       "    <tr>\n",
       "      <th>2</th>\n",
       "      <td>-1.198168</td>\n",
       "      <td>-3.385019</td>\n",
       "      <td>3.375663</td>\n",
       "      <td>-1.498691</td>\n",
       "      <td>-1.457395</td>\n",
       "      <td>-0.903844</td>\n",
       "    </tr>\n",
       "    <tr>\n",
       "      <th>3</th>\n",
       "      <td>-1.071587</td>\n",
       "      <td>0.454133</td>\n",
       "      <td>0.242928</td>\n",
       "      <td>-1.364971</td>\n",
       "      <td>-1.317305</td>\n",
       "      <td>-0.902090</td>\n",
       "    </tr>\n",
       "    <tr>\n",
       "      <th>4</th>\n",
       "      <td>-1.029394</td>\n",
       "      <td>1.082358</td>\n",
       "      <td>0.242928</td>\n",
       "      <td>-1.240167</td>\n",
       "      <td>-1.212238</td>\n",
       "      <td>-0.901839</td>\n",
       "    </tr>\n",
       "  </tbody>\n",
       "</table>\n",
       "</div>"
      ],
      "text/plain": [
       "      carat     depth     table    weight      size     price\n",
       "0 -1.198168 -0.174092 -1.099672 -1.587837 -1.536196 -0.904095\n",
       "1 -1.240361 -1.360738  1.585529 -1.641325 -1.658774 -0.904095\n",
       "2 -1.198168 -3.385019  3.375663 -1.498691 -1.457395 -0.903844\n",
       "3 -1.071587  0.454133  0.242928 -1.364971 -1.317305 -0.902090\n",
       "4 -1.029394  1.082358  0.242928 -1.240167 -1.212238 -0.901839"
      ]
     },
     "execution_count": 47,
     "metadata": {},
     "output_type": "execute_result"
    }
   ],
   "source": [
    "df_standard_scaled.head()"
   ]
  },
  {
   "cell_type": "code",
   "execution_count": 48,
   "id": "6777196f-2a60-4a92-8a90-c1caad10247d",
   "metadata": {},
   "outputs": [
    {
     "data": {
      "text/html": [
       "<div>\n",
       "<style scoped>\n",
       "    .dataframe tbody tr th:only-of-type {\n",
       "        vertical-align: middle;\n",
       "    }\n",
       "\n",
       "    .dataframe tbody tr th {\n",
       "        vertical-align: top;\n",
       "    }\n",
       "\n",
       "    .dataframe thead th {\n",
       "        text-align: right;\n",
       "    }\n",
       "</style>\n",
       "<table border=\"1\" class=\"dataframe\">\n",
       "  <thead>\n",
       "    <tr style=\"text-align: right;\">\n",
       "      <th></th>\n",
       "      <th>carat</th>\n",
       "      <th>depth</th>\n",
       "      <th>table</th>\n",
       "      <th>weight</th>\n",
       "      <th>size</th>\n",
       "      <th>price</th>\n",
       "    </tr>\n",
       "  </thead>\n",
       "  <tbody>\n",
       "    <tr>\n",
       "      <th>0</th>\n",
       "      <td>0.006237</td>\n",
       "      <td>0.513889</td>\n",
       "      <td>0.230769</td>\n",
       "      <td>0.367784</td>\n",
       "      <td>0.067572</td>\n",
       "      <td>0.000000</td>\n",
       "    </tr>\n",
       "    <tr>\n",
       "      <th>1</th>\n",
       "      <td>0.002079</td>\n",
       "      <td>0.466667</td>\n",
       "      <td>0.346154</td>\n",
       "      <td>0.362197</td>\n",
       "      <td>0.065195</td>\n",
       "      <td>0.000000</td>\n",
       "    </tr>\n",
       "    <tr>\n",
       "      <th>2</th>\n",
       "      <td>0.006237</td>\n",
       "      <td>0.386111</td>\n",
       "      <td>0.423077</td>\n",
       "      <td>0.377095</td>\n",
       "      <td>0.069100</td>\n",
       "      <td>0.000054</td>\n",
       "    </tr>\n",
       "    <tr>\n",
       "      <th>3</th>\n",
       "      <td>0.018711</td>\n",
       "      <td>0.538889</td>\n",
       "      <td>0.288462</td>\n",
       "      <td>0.391061</td>\n",
       "      <td>0.071817</td>\n",
       "      <td>0.000433</td>\n",
       "    </tr>\n",
       "    <tr>\n",
       "      <th>4</th>\n",
       "      <td>0.022869</td>\n",
       "      <td>0.563889</td>\n",
       "      <td>0.288462</td>\n",
       "      <td>0.404097</td>\n",
       "      <td>0.073854</td>\n",
       "      <td>0.000487</td>\n",
       "    </tr>\n",
       "  </tbody>\n",
       "</table>\n",
       "</div>"
      ],
      "text/plain": [
       "      carat     depth     table    weight      size     price\n",
       "0  0.006237  0.513889  0.230769  0.367784  0.067572  0.000000\n",
       "1  0.002079  0.466667  0.346154  0.362197  0.065195  0.000000\n",
       "2  0.006237  0.386111  0.423077  0.377095  0.069100  0.000054\n",
       "3  0.018711  0.538889  0.288462  0.391061  0.071817  0.000433\n",
       "4  0.022869  0.563889  0.288462  0.404097  0.073854  0.000487"
      ]
     },
     "execution_count": 48,
     "metadata": {},
     "output_type": "execute_result"
    }
   ],
   "source": [
    "df_minmax_scaled.head()"
   ]
  },
  {
   "cell_type": "code",
   "execution_count": 49,
   "id": "d5d6c691-4117-4bb1-9718-23907ab6e8f0",
   "metadata": {},
   "outputs": [
    {
     "data": {
      "text/html": [
       "<div>\n",
       "<style scoped>\n",
       "    .dataframe tbody tr th:only-of-type {\n",
       "        vertical-align: middle;\n",
       "    }\n",
       "\n",
       "    .dataframe tbody tr th {\n",
       "        vertical-align: top;\n",
       "    }\n",
       "\n",
       "    .dataframe thead th {\n",
       "        text-align: right;\n",
       "    }\n",
       "</style>\n",
       "<table border=\"1\" class=\"dataframe\">\n",
       "  <thead>\n",
       "    <tr style=\"text-align: right;\">\n",
       "      <th></th>\n",
       "      <th>carat</th>\n",
       "      <th>depth</th>\n",
       "      <th>table</th>\n",
       "      <th>weight</th>\n",
       "      <th>size</th>\n",
       "      <th>price</th>\n",
       "      <th>cut_Good</th>\n",
       "      <th>cut_Ideal</th>\n",
       "      <th>cut_Premium</th>\n",
       "      <th>cut_Very Good</th>\n",
       "      <th>...</th>\n",
       "      <th>color_H</th>\n",
       "      <th>color_I</th>\n",
       "      <th>color_J</th>\n",
       "      <th>clarity_IF</th>\n",
       "      <th>clarity_SI1</th>\n",
       "      <th>clarity_SI2</th>\n",
       "      <th>clarity_VS1</th>\n",
       "      <th>clarity_VS2</th>\n",
       "      <th>clarity_VVS1</th>\n",
       "      <th>clarity_VVS2</th>\n",
       "    </tr>\n",
       "  </thead>\n",
       "  <tbody>\n",
       "    <tr>\n",
       "      <th>0</th>\n",
       "      <td>-1.198168</td>\n",
       "      <td>-0.174092</td>\n",
       "      <td>-1.099672</td>\n",
       "      <td>-1.587837</td>\n",
       "      <td>-1.536196</td>\n",
       "      <td>-0.904095</td>\n",
       "      <td>-0.316312</td>\n",
       "      <td>1.225928</td>\n",
       "      <td>-0.586085</td>\n",
       "      <td>-0.537255</td>\n",
       "      <td>...</td>\n",
       "      <td>-0.42657</td>\n",
       "      <td>-0.334294</td>\n",
       "      <td>-0.234343</td>\n",
       "      <td>-0.185268</td>\n",
       "      <td>-0.565361</td>\n",
       "      <td>2.206098</td>\n",
       "      <td>-0.422524</td>\n",
       "      <td>-0.542295</td>\n",
       "      <td>-0.269603</td>\n",
       "      <td>-0.321954</td>\n",
       "    </tr>\n",
       "    <tr>\n",
       "      <th>1</th>\n",
       "      <td>-1.240361</td>\n",
       "      <td>-1.360738</td>\n",
       "      <td>1.585529</td>\n",
       "      <td>-1.641325</td>\n",
       "      <td>-1.658774</td>\n",
       "      <td>-0.904095</td>\n",
       "      <td>-0.316312</td>\n",
       "      <td>-0.815708</td>\n",
       "      <td>1.706238</td>\n",
       "      <td>-0.537255</td>\n",
       "      <td>...</td>\n",
       "      <td>-0.42657</td>\n",
       "      <td>-0.334294</td>\n",
       "      <td>-0.234343</td>\n",
       "      <td>-0.185268</td>\n",
       "      <td>1.768781</td>\n",
       "      <td>-0.453289</td>\n",
       "      <td>-0.422524</td>\n",
       "      <td>-0.542295</td>\n",
       "      <td>-0.269603</td>\n",
       "      <td>-0.321954</td>\n",
       "    </tr>\n",
       "    <tr>\n",
       "      <th>2</th>\n",
       "      <td>-1.198168</td>\n",
       "      <td>-3.385019</td>\n",
       "      <td>3.375663</td>\n",
       "      <td>-1.498691</td>\n",
       "      <td>-1.457395</td>\n",
       "      <td>-0.903844</td>\n",
       "      <td>3.161440</td>\n",
       "      <td>-0.815708</td>\n",
       "      <td>-0.586085</td>\n",
       "      <td>-0.537255</td>\n",
       "      <td>...</td>\n",
       "      <td>-0.42657</td>\n",
       "      <td>-0.334294</td>\n",
       "      <td>-0.234343</td>\n",
       "      <td>-0.185268</td>\n",
       "      <td>-0.565361</td>\n",
       "      <td>-0.453289</td>\n",
       "      <td>2.366727</td>\n",
       "      <td>-0.542295</td>\n",
       "      <td>-0.269603</td>\n",
       "      <td>-0.321954</td>\n",
       "    </tr>\n",
       "    <tr>\n",
       "      <th>3</th>\n",
       "      <td>-1.071587</td>\n",
       "      <td>0.454133</td>\n",
       "      <td>0.242928</td>\n",
       "      <td>-1.364971</td>\n",
       "      <td>-1.317305</td>\n",
       "      <td>-0.902090</td>\n",
       "      <td>-0.316312</td>\n",
       "      <td>-0.815708</td>\n",
       "      <td>1.706238</td>\n",
       "      <td>-0.537255</td>\n",
       "      <td>...</td>\n",
       "      <td>-0.42657</td>\n",
       "      <td>2.991381</td>\n",
       "      <td>-0.234343</td>\n",
       "      <td>-0.185268</td>\n",
       "      <td>-0.565361</td>\n",
       "      <td>-0.453289</td>\n",
       "      <td>-0.422524</td>\n",
       "      <td>1.844015</td>\n",
       "      <td>-0.269603</td>\n",
       "      <td>-0.321954</td>\n",
       "    </tr>\n",
       "    <tr>\n",
       "      <th>4</th>\n",
       "      <td>-1.029394</td>\n",
       "      <td>1.082358</td>\n",
       "      <td>0.242928</td>\n",
       "      <td>-1.240167</td>\n",
       "      <td>-1.212238</td>\n",
       "      <td>-0.901839</td>\n",
       "      <td>3.161440</td>\n",
       "      <td>-0.815708</td>\n",
       "      <td>-0.586085</td>\n",
       "      <td>-0.537255</td>\n",
       "      <td>...</td>\n",
       "      <td>-0.42657</td>\n",
       "      <td>-0.334294</td>\n",
       "      <td>4.267248</td>\n",
       "      <td>-0.185268</td>\n",
       "      <td>-0.565361</td>\n",
       "      <td>2.206098</td>\n",
       "      <td>-0.422524</td>\n",
       "      <td>-0.542295</td>\n",
       "      <td>-0.269603</td>\n",
       "      <td>-0.321954</td>\n",
       "    </tr>\n",
       "  </tbody>\n",
       "</table>\n",
       "<p>5 rows × 23 columns</p>\n",
       "</div>"
      ],
      "text/plain": [
       "      carat     depth     table    weight      size     price  cut_Good  \\\n",
       "0 -1.198168 -0.174092 -1.099672 -1.587837 -1.536196 -0.904095 -0.316312   \n",
       "1 -1.240361 -1.360738  1.585529 -1.641325 -1.658774 -0.904095 -0.316312   \n",
       "2 -1.198168 -3.385019  3.375663 -1.498691 -1.457395 -0.903844  3.161440   \n",
       "3 -1.071587  0.454133  0.242928 -1.364971 -1.317305 -0.902090 -0.316312   \n",
       "4 -1.029394  1.082358  0.242928 -1.240167 -1.212238 -0.901839  3.161440   \n",
       "\n",
       "   cut_Ideal  cut_Premium  cut_Very Good  ...  color_H   color_I   color_J  \\\n",
       "0   1.225928    -0.586085      -0.537255  ... -0.42657 -0.334294 -0.234343   \n",
       "1  -0.815708     1.706238      -0.537255  ... -0.42657 -0.334294 -0.234343   \n",
       "2  -0.815708    -0.586085      -0.537255  ... -0.42657 -0.334294 -0.234343   \n",
       "3  -0.815708     1.706238      -0.537255  ... -0.42657  2.991381 -0.234343   \n",
       "4  -0.815708    -0.586085      -0.537255  ... -0.42657 -0.334294  4.267248   \n",
       "\n",
       "   clarity_IF  clarity_SI1  clarity_SI2  clarity_VS1  clarity_VS2  \\\n",
       "0   -0.185268    -0.565361     2.206098    -0.422524    -0.542295   \n",
       "1   -0.185268     1.768781    -0.453289    -0.422524    -0.542295   \n",
       "2   -0.185268    -0.565361    -0.453289     2.366727    -0.542295   \n",
       "3   -0.185268    -0.565361    -0.453289    -0.422524     1.844015   \n",
       "4   -0.185268    -0.565361     2.206098    -0.422524    -0.542295   \n",
       "\n",
       "   clarity_VVS1  clarity_VVS2  \n",
       "0     -0.269603     -0.321954  \n",
       "1     -0.269603     -0.321954  \n",
       "2     -0.269603     -0.321954  \n",
       "3     -0.269603     -0.321954  \n",
       "4     -0.269603     -0.321954  \n",
       "\n",
       "[5 rows x 23 columns]"
      ]
     },
     "execution_count": 49,
     "metadata": {},
     "output_type": "execute_result"
    }
   ],
   "source": [
    "# Convert categorical columns to numeric using one-hot encoding\n",
    "df_encoded = pd.get_dummies(df, columns=['cut', 'color', 'clarity'], drop_first=True)\n",
    "# Apply StandardScaler\n",
    "df_standard_scaled = pd.DataFrame(scaler_standard.fit_transform(df_encoded), columns=df_encoded.columns)\n",
    "df_standard_scaled.head()"
   ]
  },
  {
   "cell_type": "code",
   "execution_count": 50,
   "id": "95176da5-d129-452a-9496-147b2a8f7421",
   "metadata": {},
   "outputs": [
    {
     "data": {
      "text/html": [
       "<div>\n",
       "<style scoped>\n",
       "    .dataframe tbody tr th:only-of-type {\n",
       "        vertical-align: middle;\n",
       "    }\n",
       "\n",
       "    .dataframe tbody tr th {\n",
       "        vertical-align: top;\n",
       "    }\n",
       "\n",
       "    .dataframe thead th {\n",
       "        text-align: right;\n",
       "    }\n",
       "</style>\n",
       "<table border=\"1\" class=\"dataframe\">\n",
       "  <thead>\n",
       "    <tr style=\"text-align: right;\">\n",
       "      <th></th>\n",
       "      <th>carat</th>\n",
       "      <th>depth</th>\n",
       "      <th>table</th>\n",
       "      <th>weight</th>\n",
       "      <th>size</th>\n",
       "      <th>price</th>\n",
       "      <th>cut_Good</th>\n",
       "      <th>cut_Ideal</th>\n",
       "      <th>cut_Premium</th>\n",
       "      <th>cut_Very Good</th>\n",
       "      <th>...</th>\n",
       "      <th>color_H</th>\n",
       "      <th>color_I</th>\n",
       "      <th>color_J</th>\n",
       "      <th>clarity_IF</th>\n",
       "      <th>clarity_SI1</th>\n",
       "      <th>clarity_SI2</th>\n",
       "      <th>clarity_VS1</th>\n",
       "      <th>clarity_VS2</th>\n",
       "      <th>clarity_VVS1</th>\n",
       "      <th>clarity_VVS2</th>\n",
       "    </tr>\n",
       "  </thead>\n",
       "  <tbody>\n",
       "    <tr>\n",
       "      <th>0</th>\n",
       "      <td>0.006237</td>\n",
       "      <td>0.513889</td>\n",
       "      <td>0.230769</td>\n",
       "      <td>0.367784</td>\n",
       "      <td>0.067572</td>\n",
       "      <td>0.000000</td>\n",
       "      <td>0.0</td>\n",
       "      <td>1.0</td>\n",
       "      <td>0.0</td>\n",
       "      <td>0.0</td>\n",
       "      <td>...</td>\n",
       "      <td>0.0</td>\n",
       "      <td>0.0</td>\n",
       "      <td>0.0</td>\n",
       "      <td>0.0</td>\n",
       "      <td>0.0</td>\n",
       "      <td>1.0</td>\n",
       "      <td>0.0</td>\n",
       "      <td>0.0</td>\n",
       "      <td>0.0</td>\n",
       "      <td>0.0</td>\n",
       "    </tr>\n",
       "    <tr>\n",
       "      <th>1</th>\n",
       "      <td>0.002079</td>\n",
       "      <td>0.466667</td>\n",
       "      <td>0.346154</td>\n",
       "      <td>0.362197</td>\n",
       "      <td>0.065195</td>\n",
       "      <td>0.000000</td>\n",
       "      <td>0.0</td>\n",
       "      <td>0.0</td>\n",
       "      <td>1.0</td>\n",
       "      <td>0.0</td>\n",
       "      <td>...</td>\n",
       "      <td>0.0</td>\n",
       "      <td>0.0</td>\n",
       "      <td>0.0</td>\n",
       "      <td>0.0</td>\n",
       "      <td>1.0</td>\n",
       "      <td>0.0</td>\n",
       "      <td>0.0</td>\n",
       "      <td>0.0</td>\n",
       "      <td>0.0</td>\n",
       "      <td>0.0</td>\n",
       "    </tr>\n",
       "    <tr>\n",
       "      <th>2</th>\n",
       "      <td>0.006237</td>\n",
       "      <td>0.386111</td>\n",
       "      <td>0.423077</td>\n",
       "      <td>0.377095</td>\n",
       "      <td>0.069100</td>\n",
       "      <td>0.000054</td>\n",
       "      <td>1.0</td>\n",
       "      <td>0.0</td>\n",
       "      <td>0.0</td>\n",
       "      <td>0.0</td>\n",
       "      <td>...</td>\n",
       "      <td>0.0</td>\n",
       "      <td>0.0</td>\n",
       "      <td>0.0</td>\n",
       "      <td>0.0</td>\n",
       "      <td>0.0</td>\n",
       "      <td>0.0</td>\n",
       "      <td>1.0</td>\n",
       "      <td>0.0</td>\n",
       "      <td>0.0</td>\n",
       "      <td>0.0</td>\n",
       "    </tr>\n",
       "    <tr>\n",
       "      <th>3</th>\n",
       "      <td>0.018711</td>\n",
       "      <td>0.538889</td>\n",
       "      <td>0.288462</td>\n",
       "      <td>0.391061</td>\n",
       "      <td>0.071817</td>\n",
       "      <td>0.000433</td>\n",
       "      <td>0.0</td>\n",
       "      <td>0.0</td>\n",
       "      <td>1.0</td>\n",
       "      <td>0.0</td>\n",
       "      <td>...</td>\n",
       "      <td>0.0</td>\n",
       "      <td>1.0</td>\n",
       "      <td>0.0</td>\n",
       "      <td>0.0</td>\n",
       "      <td>0.0</td>\n",
       "      <td>0.0</td>\n",
       "      <td>0.0</td>\n",
       "      <td>1.0</td>\n",
       "      <td>0.0</td>\n",
       "      <td>0.0</td>\n",
       "    </tr>\n",
       "    <tr>\n",
       "      <th>4</th>\n",
       "      <td>0.022869</td>\n",
       "      <td>0.563889</td>\n",
       "      <td>0.288462</td>\n",
       "      <td>0.404097</td>\n",
       "      <td>0.073854</td>\n",
       "      <td>0.000487</td>\n",
       "      <td>1.0</td>\n",
       "      <td>0.0</td>\n",
       "      <td>0.0</td>\n",
       "      <td>0.0</td>\n",
       "      <td>...</td>\n",
       "      <td>0.0</td>\n",
       "      <td>0.0</td>\n",
       "      <td>1.0</td>\n",
       "      <td>0.0</td>\n",
       "      <td>0.0</td>\n",
       "      <td>1.0</td>\n",
       "      <td>0.0</td>\n",
       "      <td>0.0</td>\n",
       "      <td>0.0</td>\n",
       "      <td>0.0</td>\n",
       "    </tr>\n",
       "  </tbody>\n",
       "</table>\n",
       "<p>5 rows × 23 columns</p>\n",
       "</div>"
      ],
      "text/plain": [
       "      carat     depth     table    weight      size     price  cut_Good  \\\n",
       "0  0.006237  0.513889  0.230769  0.367784  0.067572  0.000000       0.0   \n",
       "1  0.002079  0.466667  0.346154  0.362197  0.065195  0.000000       0.0   \n",
       "2  0.006237  0.386111  0.423077  0.377095  0.069100  0.000054       1.0   \n",
       "3  0.018711  0.538889  0.288462  0.391061  0.071817  0.000433       0.0   \n",
       "4  0.022869  0.563889  0.288462  0.404097  0.073854  0.000487       1.0   \n",
       "\n",
       "   cut_Ideal  cut_Premium  cut_Very Good  ...  color_H  color_I  color_J  \\\n",
       "0        1.0          0.0            0.0  ...      0.0      0.0      0.0   \n",
       "1        0.0          1.0            0.0  ...      0.0      0.0      0.0   \n",
       "2        0.0          0.0            0.0  ...      0.0      0.0      0.0   \n",
       "3        0.0          1.0            0.0  ...      0.0      1.0      0.0   \n",
       "4        0.0          0.0            0.0  ...      0.0      0.0      1.0   \n",
       "\n",
       "   clarity_IF  clarity_SI1  clarity_SI2  clarity_VS1  clarity_VS2  \\\n",
       "0         0.0          0.0          1.0          0.0          0.0   \n",
       "1         0.0          1.0          0.0          0.0          0.0   \n",
       "2         0.0          0.0          0.0          1.0          0.0   \n",
       "3         0.0          0.0          0.0          0.0          1.0   \n",
       "4         0.0          0.0          1.0          0.0          0.0   \n",
       "\n",
       "   clarity_VVS1  clarity_VVS2  \n",
       "0           0.0           0.0  \n",
       "1           0.0           0.0  \n",
       "2           0.0           0.0  \n",
       "3           0.0           0.0  \n",
       "4           0.0           0.0  \n",
       "\n",
       "[5 rows x 23 columns]"
      ]
     },
     "execution_count": 50,
     "metadata": {},
     "output_type": "execute_result"
    }
   ],
   "source": [
    "# Apply StandardScaler\n",
    "df_minmax_scaled = pd.DataFrame(scaler_minmax.fit_transform(df_encoded), columns=df_encoded.columns)\n",
    "df_minmax_scaled.head()"
   ]
  },
  {
   "cell_type": "markdown",
   "id": "ed894409-c069-4528-b053-695c8c0e04c7",
   "metadata": {},
   "source": [
    "### Create the Histogram for all numeric variables and draw the KDE plot on that"
   ]
  },
  {
   "cell_type": "code",
   "execution_count": 51,
   "id": "ee974941-a97c-4e63-aa9a-b49aace251ff",
   "metadata": {},
   "outputs": [
    {
     "data": {
      "image/png": "[encoded data removed]",
      "text/plain": [
       "<Figure size 1500x1500 with 6 Axes>"
      ]
     },
     "metadata": {},
     "output_type": "display_data"
    }
   ],
   "source": [
    "# Define the number of rows and columns for the subplots\n",
    "n_cols = 2  # Number of columns (you can adjust this)\n",
    "n_rows = (len(numerical_df.columns) + n_cols - 1) // n_cols  # Number of rows\n",
    "\n",
    "# Create the figure and axes\n",
    "fig, axes = plt.subplots(n_rows, n_cols, figsize=(15, n_rows * 5))\n",
    "\n",
    "# Flatten the axes array if necessary (in case of a single row or column)\n",
    "axes = axes.flatten()\n",
    "\n",
    "# Plot each histogram with KDE on the respective subplot\n",
    "for i, column in enumerate(numerical_df.columns):\n",
    "    sns.histplot(numerical_df[column], kde=True, ax=axes[i])\n",
    "    axes[i].set_title(f'Histogram with KDE for {column}')\n",
    "    axes[i].set_xlabel(column)\n",
    "    axes[i].set_ylabel('Frequency')\n",
    "\n",
    "# Remove any empty subplots (if there are more subplots than columns)\n",
    "for j in range(i + 1, len(axes)):\n",
    "    fig.delaxes(axes[j])\n",
    "\n",
    "plt.tight_layout()  # Adjust the layout to prevent overlap\n",
    "plt.show()\n"
   ]
  },
  {
   "cell_type": "markdown",
   "id": "a1673fec-5f4d-4595-9e96-17509d178098",
   "metadata": {},
   "source": [
    "##### Checking Histogram for all numeric variables and draw the KDE plot on that after box-cox tranformation"
   ]
  },
  {
   "cell_type": "code",
   "execution_count": 52,
   "id": "d21983bc-93c2-476e-95cf-f03142197927",
   "metadata": {},
   "outputs": [
    {
     "data": {
      "image/png": "[encoded data removed]",
      "text/plain": [
       "<Figure size 1500x1500 with 6 Axes>"
      ]
     },
     "metadata": {},
     "output_type": "display_data"
    }
   ],
   "source": [
    "# Define the number of rows and columns for the subplots\n",
    "n_cols = 2  # Number of columns (you can adjust this)\n",
    "n_rows = (len(numerical_boxcox_transfrom_df.columns) + n_cols - 1) // n_cols  # Number of rows\n",
    "\n",
    "# Create the figure and axes\n",
    "fig, axes = plt.subplots(n_rows, n_cols, figsize=(15, n_rows * 5))\n",
    "\n",
    "# Flatten the axes array if necessary (in case of a single row or column)\n",
    "axes = axes.flatten()\n",
    "\n",
    "# Plot each histogram with KDE on the respective subplot\n",
    "for i, column in enumerate(numerical_boxcox_transfrom_df.columns):\n",
    "    sns.histplot(numerical_boxcox_transfrom_df[column], kde=True, ax=axes[i])\n",
    "    axes[i].set_title(f'Histogram with KDE for {column}')\n",
    "    axes[i].set_xlabel(column)\n",
    "    axes[i].set_ylabel('Frequency')\n",
    "\n",
    "# Remove any empty subplots (if there are more subplots than columns)\n",
    "for j in range(i + 1, len(axes)):\n",
    "    fig.delaxes(axes[j])\n",
    "\n",
    "plt.tight_layout()  # Adjust the layout to prevent overlap\n",
    "plt.show()\n"
   ]
  },
  {
   "cell_type": "markdown",
   "id": "a5a3b980-5a18-4911-9aeb-7473e2a54847",
   "metadata": {},
   "source": [
    "### Check the correlation between all the numeric variables using HeatMap and try to draw some conclusion about the data."
   ]
  },
  {
   "cell_type": "code",
   "execution_count": 53,
   "id": "f2e0a24b-7188-47c7-ae28-9ec69d5ce388",
   "metadata": {},
   "outputs": [
    {
     "data": {
      "image/png": "[encoded data removed]",
      "text/plain": [
       "<Figure size 1000x800 with 2 Axes>"
      ]
     },
     "metadata": {},
     "output_type": "display_data"
    }
   ],
   "source": [
    "# Calculate the correlation matrix\n",
    "corr_matrix = numerical_df.corr()\n",
    "\n",
    "# Create a heatmap to visualize the correlation matrix\n",
    "plt.figure(figsize=(10, 8))\n",
    "sns.heatmap(corr_matrix, annot=True, cmap='coolwarm', fmt='.2f', linewidths=0.5)\n",
    "plt.title('Correlation Heatmap of Numeric Variables')\n",
    "plt.show()"
   ]
  },
  {
   "cell_type": "markdown",
   "id": "07423331-6453-4166-bddd-28d3a459c635",
   "metadata": {},
   "source": [
    "### Strong Positive Correlations:\n",
    "1. **Carat and Weight (0.975)**:\n",
    "   - As the carat of the diamond increases, the weight also increases significantly. This is expected since carat is a measure of a diamond's weight.\n",
    "\n",
    "2. **Carat and Size (0.952)**:\n",
    "   - There is a strong positive correlation between carat and size, indicating that larger carat diamonds tend to have larger surface areas.\n",
    "\n",
    "3. **Carat and Price (0.922)**:\n",
    "   - Carat is highly correlated with price, meaning that as the carat size increases, the price of the diamond also tends to increase.\n",
    "\n",
    "4. **Weight and Size (0.975)**:\n",
    "   - Weight and size are strongly correlated, suggesting that heavier diamonds generally have larger surface areas.\n",
    "\n",
    "5. **Weight and Price (0.884)**:\n",
    "   - Weight is strongly correlated with price, indicating that heavier diamonds tend to be more expensive.\n",
    "\n",
    "6. **Size and Price (0.865)**:\n",
    "   - Size is also strongly correlated with price, meaning that larger diamonds are typically more expensive.\n",
    "   \n",
    "### Conclusion:\n",
    "- **Carat** is the most influential factor affecting the price of a diamond, strongly correlated with both **weight** and **size**.\n",
    "- **Weight** and **Size** are closely related, and both are also significant predictors of **price**.\n",
    "ctors of price\n",
    " **table** size play a less significant role.ar **table** size play a less significant role."
   ]
  },
  {
   "cell_type": "markdown",
   "id": "1c837247-1713-430f-b2f4-22bdbca5e846",
   "metadata": {},
   "source": [
    "### Explain Gradient descent in detail. How changing the values of learning rate can impact the convergence in Gradient Descent"
   ]
  },
  {
   "cell_type": "markdown",
   "id": "06c7b74e-6e94-467b-b985-250e2db74dfb",
   "metadata": {},
   "source": [
    "Imagine you're in a hilly area, blindfolded, and your goal is to reach the lowest point (valley). Gradient descent is like a strategy to find this lowest point:\n",
    "\n",
    "1. You start at a random spot on the hill.\n",
    "2. You feel the ground around you to figure out which way is steeper downhill.\n",
    "3. You take a step in that downhill direction.\n",
    "4. You repeat steps 2 and 3 until you can't go any lower.\n",
    "\n",
    "Now, the learning rate is like the size of your steps:\n",
    "\n",
    "1. Big steps (high learning rate):\n",
    "   - You move faster but might overshoot the valley.\n",
    "   - You might end up jumping back and forth across the valley.\n",
    "   - In extreme cases, you could even start climbing up the other side!\n",
    "\n",
    "2. Tiny steps (low learning rate):\n",
    "   - You move very slowly and carefully.\n",
    "   - It takes a long time to reach the bottom.\n",
    "   - You might get stuck in a small dip that isn't the real lowest point.\n",
    "\n",
    "3. Just right steps (optimal learning rate):\n",
    "   - You move at a good pace without overshooting.\n",
    "   - You reach the bottom efficiently.\n",
    "\n",
    "Example:\n",
    "Imagine you're on a U-shaped hill, starting at the edge:\n",
    "\n",
    "- With big steps, you might jump from one side to the other, back and forth.\n",
    "- With tiny steps, you'd slowly inch your way down one side.\n",
    "- With just-right steps, you'd smoothly make your way to the bottom.\n",
    "\n",
    "In machine learning, instead of a physical hill, we're dealing with a \"hill\" of errors in our predictions. The goal is to find the point where our predictions have the least error. The learning rate helps us adjust how quickly we try to improve our predictions as we \"walk down\" this error hill."
   ]
  },
  {
   "cell_type": "markdown",
   "id": "e2b829c8-f9f6-4045-b2cc-394290596d69",
   "metadata": {},
   "source": [
    "Gradient descent is a fundamental optimization algorithm used in machine learning and deep learning to minimize a cost function. It's particularly important for training models with large numbers of parameters. Let's break down the concept and then explore how the learning rate impacts convergence.\n",
    "\n",
    "Gradient Descent Explained:\n",
    "\n",
    "1. Objective: The goal is to find the minimum of a cost function J(θ), where θ represents the parameters of the model.\n",
    "\n",
    "2. Process:\n",
    "   \n",
    "   - Start with initial parameter values.\n",
    "   - Calculate the gradient (partial derivatives) of the cost function with respect to each parameter.\n",
    "   - Update the parameters in the opposite direction of the gradient.\n",
    "   - Repeat steps 2nd and 3rd step until convergence or a stopping criterion is met.\n",
    "\n",
    "4. Update Rule:\n",
    "   θ_new = θ_old - α * ∇J(θ)\n",
    "   Where:\n",
    "   - α is the learning rate\n",
    "   - ∇J(θ) is the gradient of the cost function\n",
    "\n",
    "5. Types of Gradient Descent:\n",
    "   - Batch Gradient Descent: Uses entire dataset for each update.\n",
    "   - Stochastic Gradient Descent (SGD): Uses one sample at a time.\n",
    "   - Mini-batch Gradient Descent: Uses a small batch of samples.\n",
    "\n",
    "Impact of Learning Rate:\n",
    "\n",
    "The learning rate α is crucial in determining how quickly and accurately the algorithm converges to the minimum. Let's explore its impact:\n",
    "\n",
    "1. Too High Learning Rate:\n",
    "   - Large steps in parameter space.\n",
    "   - May overshoot the minimum.\n",
    "   - Can lead to divergence or oscillation around the minimum.\n",
    "\n",
    "2. Too Low Learning Rate:\n",
    "   - Small steps in parameter space.\n",
    "   - Slow convergence.\n",
    "   - May get stuck in local minima or plateau regions.\n",
    "\n",
    "3. Optimal Learning Rate:\n",
    "   - Balances speed and accuracy.\n",
    "   - Converges to the global minimum efficiently.\n",
    "\n",
    "Example:\n",
    "\n",
    "Let's consider a simple quadratic cost function: J(θ) = θ^2\n",
    "\n",
    "Starting point: θ = 5\n",
    "Gradient: ∇J(θ) = 2θ\n",
    "\n",
    "Case 1: High Learning Rate (α = 0.5)\n",
    "Iteration 1: θ = 5 - 0.5 * (2 * 5) = -0.5\n",
    "Iteration 2: θ = -0.5 - 0.5 * (2 * -0.5) = 0.25\n",
    "Iteration 3: θ = 0.25 - 0.5 * (2 * 0.25) = -0.125\n",
    "\n",
    "We see oscillation around the minimum (0), potentially leading to divergence.\n",
    "\n",
    "Case 2: Low Learning Rate (α = 0.1)\n",
    "Iteration 1: θ = 5 - 0.1 * (2 * 5) = 4\n",
    "Iteration 2: θ = 4 - 0.1 * (2 * 4) = 3.2\n",
    "Iteration 3: θ = 3.2 - 0.1 * (2 * 3.2) = 2.56\n",
    "\n",
    "Convergence is slow but steady.\n",
    "\n",
    "Case 3: Optimal Learning Rate (α = 0.25)\n",
    "Iteration 1: θ = 5 - 0.25 * (2 * 5) = 2.5\n",
    "Iteration 2: θ = 2.5 - 0.25 * (2 * 2.5) = 1.25\n",
    "Iteration 3: θ = 1.25 - 0.25 * (2 * 1.25) = 0.625\n",
    "\n",
    "Faster convergence towards the minimum without overshooting.\n"
   ]
  },
  {
   "cell_type": "code",
   "execution_count": null,
   "id": "a333dcb7-b04a-4dc6-8efe-a092aa1f01eb",
   "metadata": {},
   "outputs": [],
   "source": []
  }
 ],
 "metadata": {
  "kernelspec": {
   "display_name": "Python 3 (ipykernel)",
   "language": "python",
   "name": "python3"
  },
  "language_info": {
   "codemirror_mode": {
    "name": "ipython",
    "version": 3
   },
   "file_extension": ".py",
   "mimetype": "text/x-python",
   "name": "python",
   "nbconvert_exporter": "python",
   "pygments_lexer": "ipython3",
   "version": "3.11.7"
  }
 },
 "nbformat": 4,
 "nbformat_minor": 5
}
