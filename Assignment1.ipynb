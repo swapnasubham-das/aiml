{
 "cells": [
  {
   "cell_type": "markdown",
   "id": "2a1fedeb-7ea5-492b-972d-6a5034fee222",
   "metadata": {},
   "source": [
    "You’re a Data Scientist. You have assigned a task to perform. Create two lists a & b, where a has values -> (11,89,41,32,77,90) \n",
    "and b has values -> (95,24,39,15,74,22). Compare the corresponding element values of both the lists and print “a element value is greater than b element value” if corresponding value from a is greater else print “a element value is less than b element value” if corresponding value from a is less than b.\n"
   ]
  },
  {
   "cell_type": "code",
   "execution_count": 1,
   "id": "68b8eee4-0c1c-4a17-ae0e-58a961d2b5b2",
   "metadata": {},
   "outputs": [
    {
     "name": "stdout",
     "output_type": "stream",
     "text": [
      "a element value  11  is less    than b element value  95\n",
      "a element value  89  is greater than b element value  24\n",
      "a element value  41  is greater than b element value  39\n",
      "a element value  32  is greater than b element value  15\n",
      "a element value  77  is greater than b element value  74\n",
      "a element value  90  is greater than b element value  22\n"
     ]
    }
   ],
   "source": [
    "def compare_list(a,b):\n",
    "    for i in range(len(a)):\n",
    "        if(a[i] > b[i]):\n",
    "            print(\"a element value \",a[i],\" is greater than b element value \",b[i])\n",
    "        else:\n",
    "            print(\"a element value \",a[i],\" is less    than b element value \",b[i])\n",
    "\n",
    "a = [11, 89, 41, 32, 77, 90]\n",
    "b = [95, 24, 39, 15, 74, 22]\n",
    "compare_list(a,b)"
   ]
  },
  {
   "cell_type": "markdown",
   "id": "81333470-9547-4b74-9dc1-a5ed9c3215f8",
   "metadata": {},
   "source": [
    "Write code to create a class named Calculator.\n",
    "\n",
    "•Define methods for addition, subtraction, multiplication and division that take in two numbers and return another number after Performing their respective operations\n",
    "\n",
    "•Define another method named execute command that takes two numbers and a string named command. The command string will be ‘add’, ‘sub’, mul’, ‘div’. Perform Addition, Subtraction, Multiplication and Division on the two numbers respectively. Make sure the execute command method is case insensitive (meaning that even if the user passes ‘aDd’ as command it should perform addition on two numbers)\n"
   ]
  },
  {
   "cell_type": "code",
   "execution_count": 2,
   "id": "a2464711-4435-45a6-98d2-850806aa6ba7",
   "metadata": {},
   "outputs": [
    {
     "name": "stdin",
     "output_type": "stream",
     "text": [
      "Enter 1st Number:  50\n",
      "Enter 2nd Number:  3\n",
      "Enter the operation : div\n"
     ]
    },
    {
     "name": "stdout",
     "output_type": "stream",
     "text": [
      "Division is : 16.666666666666668\n"
     ]
    }
   ],
   "source": [
    "# Creating class\n",
    "class Calculator:\n",
    "    def addition(self, number1, number2):\n",
    "        result = number1 + number2\n",
    "        return result\n",
    "    def subtraction(self, number1, number2):\n",
    "        result = number1 - number2\n",
    "        return result\n",
    "    def multiplication(self, number1, number2):\n",
    "        result = number1 * number2\n",
    "        return result\n",
    "    def division(self, number1, number2):\n",
    "        if number2 != 0:\n",
    "            result = number1 / number2\n",
    "            return result\n",
    "        else:\n",
    "            return \"Division by zero is not allowed.\"\n",
    "\n",
    "    def execute_command(self, number1, number2, command):\n",
    "        command = command.lower()\n",
    "        if command == 'add':\n",
    "            result = self.addition(number1, number2)\n",
    "            print(\"Addition is :\" ,result)\n",
    "        elif command == 'sub':\n",
    "            result = self.subtraction(number1, number2)\n",
    "            print(\"Subtraction is :\" ,result) \n",
    "        elif command == 'mul':\n",
    "            result = self.multiplication(number1, number2)\n",
    "            print(\"Multiplication is :\" ,result)  \n",
    "        elif command == 'div':\n",
    "            result = self.division(number1, number2)\n",
    "            print(\"Division is :\" ,result) \n",
    "        else:\n",
    "            return \"Error: Invalid command\"            \n",
    "            \n",
    "number1 = int(input(\"Enter 1st Number: \"))\n",
    "number2 = int(input(\"Enter 2nd Number: \"))\n",
    "command = input(\"Enter the operation :\")\n",
    "calc = Calculator()\n",
    "calc.execute_command(number1, number2,command)"
   ]
  },
  {
   "cell_type": "markdown",
   "id": "40fe3b5e-5799-4a4d-9e74-3733d90196d2",
   "metadata": {},
   "source": [
    "Create a program to take numbers and store them in a list and Print a Square of numbers as tuple."
   ]
  },
  {
   "cell_type": "code",
   "execution_count": 3,
   "id": "f3146e97-b0ce-4cd0-9224-d5ebda9d8034",
   "metadata": {},
   "outputs": [
    {
     "name": "stdin",
     "output_type": "stream",
     "text": [
      "Enter the size of list : 5\n",
      "Enter the number:  10\n",
      "Enter the number:  9\n",
      "Enter the number:  7\n",
      "Enter the number:  5\n",
      "Enter the number:  3\n"
     ]
    },
    {
     "name": "stdout",
     "output_type": "stream",
     "text": [
      "Original numbers: [10, 9, 7, 5, 3]\n",
      "Squares of numbers: (100, 81, 49, 25, 9)\n"
     ]
    }
   ],
   "source": [
    "def input_list():\n",
    "    numbers = []\n",
    "    input_size = int(input(\"Enter the size of list :\"))\n",
    "    for i in range(input_size):\n",
    "        numner_input = int(input(\"Enter the number: \"))\n",
    "        numbers.append(numner_input)\n",
    "    return numbers\n",
    "def squares_tuple(numbers):\n",
    "    squares = []\n",
    "    for number in numbers:\n",
    "        squares.append(number ** 2)\n",
    "    return tuple(squares)\n",
    "    \n",
    "numbers = input_list()\n",
    "squares = squares_tuple(numbers)\n",
    "print(\"Original numbers:\", numbers)\n",
    "print(\"Squares of numbers:\", squares)"
   ]
  },
  {
   "cell_type": "markdown",
   "id": "f3ba516b-8362-4bae-9ba6-2a9ccf122e75",
   "metadata": {},
   "source": [
    "Write a Function to check if the year number is a leap year or not. Print all Leap Years of 21st Century."
   ]
  },
  {
   "cell_type": "code",
   "execution_count": 4,
   "id": "215938c6-8d3b-4f44-82fb-d7484208d0dd",
   "metadata": {},
   "outputs": [
    {
     "name": "stdout",
     "output_type": "stream",
     "text": [
      "All the leap years of the 21st century:\n",
      "2000\n",
      "2004\n",
      "2008\n",
      "2012\n",
      "2016\n",
      "2020\n",
      "2024\n",
      "2028\n",
      "2032\n",
      "2036\n",
      "2040\n",
      "2044\n",
      "2048\n",
      "2052\n",
      "2056\n",
      "2060\n",
      "2064\n",
      "2068\n",
      "2072\n",
      "2076\n",
      "2080\n",
      "2084\n",
      "2088\n",
      "2092\n",
      "2096\n"
     ]
    }
   ],
   "source": [
    "def leap_year_check(year):\n",
    "    if (year % 4 == 0 and year % 100 != 0) or (year % 400 == 0):\n",
    "        return True\n",
    "    else:\n",
    "        return False\n",
    "\n",
    "def leap_years_21st_century_list():\n",
    "    leap_years_list = []\n",
    "    for year in range(2000, 2101,2):\n",
    "        if leap_year_check(year):\n",
    "            leap_years_list.append(year)\n",
    "    print(\"All the leap years of the 21st century:\",end = '\\n')\n",
    "    for year in leap_years_list:\n",
    "        print(year)\n",
    "leap_years_21st_century_list()"
   ]
  },
  {
   "cell_type": "markdown",
   "id": "fb4fe0ba-8599-4538-b120-8b6240581807",
   "metadata": {},
   "source": [
    "Write a Function to take an array and return another array that contains the members of the first array that are even in one array and odd in another array."
   ]
  },
  {
   "cell_type": "code",
   "execution_count": 6,
   "id": "7e5d187e-c7d5-4338-a31e-16652935ce62",
   "metadata": {},
   "outputs": [
    {
     "name": "stdout",
     "output_type": "stream",
     "text": [
      "Original Array: [13, 26, 35, 43, 58, 67, 79, 84, 92, 12]\n",
      "Even Numbers: [26, 58, 84, 92, 12]\n",
      "Odd Numbers: [13, 35, 43, 67, 79]\n"
     ]
    }
   ],
   "source": [
    "def separate_even_odd(input_list):\n",
    "    even_numbers = []\n",
    "    odd_numbers = []\n",
    "    \n",
    "    for number in input_list:\n",
    "        if number % 2 == 0:\n",
    "            even_numbers.append(number)\n",
    "        else:\n",
    "            odd_numbers.append(number)\n",
    "    \n",
    "    return even_numbers, odd_numbers\n",
    "\n",
    "input_list = [13, 26, 35, 43, 58, 67, 79, 84, 92, 12]\n",
    "even_numbers, odd_numbers = separate_even_odd(input_list)\n",
    "print(\"Original Array:\", input_list)\n",
    "print(\"Even Numbers:\", even_numbers)\n",
    "print(\"Odd Numbers:\", odd_numbers)"
   ]
  },
  {
   "cell_type": "markdown",
   "id": "aaba801f-7f36-4066-a19a-8b67b909a442",
   "metadata": {},
   "source": [
    "Write a python code to print the following pattern.\n",
    "1\n",
    "1 2\n",
    "1 2 3\n",
    "1 2 3 4\n",
    "1 2 3 4 5\n"
   ]
  },
  {
   "cell_type": "code",
   "execution_count": 7,
   "id": "82a05f35-1ea2-42d0-9d87-8d0d67335325",
   "metadata": {},
   "outputs": [
    {
     "name": "stdin",
     "output_type": "stream",
     "text": [
      "Enter the number:  5\n"
     ]
    },
    {
     "name": "stdout",
     "output_type": "stream",
     "text": [
      "1 \n",
      "1 2 \n",
      "1 2 3 \n",
      "1 2 3 4 \n",
      "1 2 3 4 5 \n"
     ]
    }
   ],
   "source": [
    "def print_pattern(rows):\n",
    "    for i in range(1, rows + 1):\n",
    "        for j in range(1, i + 1):\n",
    "            print(j, end=\" \")\n",
    "        print()\n",
    "number = int(input(\"Enter the number: \"))\n",
    "print_pattern(number)"
   ]
  }
 ],
 "metadata": {
  "kernelspec": {
   "display_name": "Python 3 (ipykernel)",
   "language": "python",
   "name": "python3"
  },
  "language_info": {
   "codemirror_mode": {
    "name": "ipython",
    "version": 3
   },
   "file_extension": ".py",
   "mimetype": "text/x-python",
   "name": "python",
   "nbconvert_exporter": "python",
   "pygments_lexer": "ipython3",
   "version": "3.11.7"
  }
 },
 "nbformat": 4,
 "nbformat_minor": 5
}
