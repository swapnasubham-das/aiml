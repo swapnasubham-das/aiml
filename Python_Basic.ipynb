{
 "cells": [
  {
   "cell_type": "code",
   "execution_count": null,
   "id": "ed563b75-bf09-4e47-96c0-8525be4712f7",
   "metadata": {},
   "outputs": [],
   "source": [
    "# Sample Pandas Example"
   ]
  },
  {
   "cell_type": "code",
   "execution_count": 3,
   "id": "d4a589a5-fdd0-493c-bce4-8ccbddd44be5",
   "metadata": {},
   "outputs": [
    {
     "name": "stdout",
     "output_type": "stream",
     "text": [
      "Original DataFrame:\n",
      "      Name  Age         City\n",
      "0    Alice   25     New York\n",
      "1      Bob   30  Los Angeles\n",
      "2  Charlie   35      Chicago\n",
      "3    David   40      Houston\n",
      "4    Emily   45       Boston\n",
      "\n",
      "Selecting a column 'Name':\n",
      "0      Alice\n",
      "1        Bob\n",
      "2    Charlie\n",
      "3      David\n",
      "4      Emily\n",
      "Name: Name, dtype: object\n",
      "\n",
      "Selecting multiple columns 'Name' and 'Age':\n",
      "      Name  Age\n",
      "0    Alice   25\n",
      "1      Bob   30\n",
      "2  Charlie   35\n",
      "3    David   40\n",
      "4    Emily   45\n",
      "\n",
      "Filtering rows where Age is greater than 30:\n",
      "      Name  Age     City\n",
      "2  Charlie   35  Chicago\n",
      "3    David   40  Houston\n",
      "4    Emily   45   Boston\n",
      "\n",
      "DataFrame after adding a new column 'Country':\n",
      "      Name  Age         City Country\n",
      "0    Alice   25     New York     USA\n",
      "1      Bob   30  Los Angeles     USA\n",
      "2  Charlie   35      Chicago     USA\n",
      "3    David   40      Houston     USA\n",
      "4    Emily   45       Boston     USA\n",
      "\n",
      "DataFrame after dropping the 'City' column:\n",
      "      Name  Age Country\n",
      "0    Alice   25     USA\n",
      "1      Bob   30     USA\n",
      "2  Charlie   35     USA\n",
      "3    David   40     USA\n",
      "4    Emily   45     USA\n",
      "\n",
      "DataFrame sorted by Age (descending):\n",
      "      Name  Age Country\n",
      "4    Emily   45     USA\n",
      "3    David   40     USA\n",
      "2  Charlie   35     USA\n",
      "1      Bob   30     USA\n",
      "0    Alice   25     USA\n"
     ]
    }
   ],
   "source": [
    "import pandas as pd\n",
    "\n",
    "# Create a DataFrame from a dictionary\n",
    "data = {\n",
    "    'Name': ['Alice', 'Bob', 'Charlie', 'David', 'Emily'],\n",
    "    'Age': [25, 30, 35, 40, 45],\n",
    "    'City': ['New York', 'Los Angeles', 'Chicago', 'Houston', 'Boston']\n",
    "}\n",
    "df = pd.DataFrame(data)\n",
    "\n",
    "# Display the DataFrame\n",
    "print(\"Original DataFrame:\")\n",
    "print(df)\n",
    "print()\n",
    "\n",
    "# Selecting a column\n",
    "print(\"Selecting a column 'Name':\")\n",
    "print(df['Name'])\n",
    "print()\n",
    "\n",
    "# Selecting multiple columns\n",
    "print(\"Selecting multiple columns 'Name' and 'Age':\")\n",
    "print(df[['Name', 'Age']])\n",
    "print()\n",
    "\n",
    "# Filtering rows based on a condition\n",
    "print(\"Filtering rows where Age is greater than 30:\")\n",
    "print(df[df['Age'] > 30])\n",
    "print()\n",
    "\n",
    "# Adding a new column\n",
    "df['Country'] = 'USA'\n",
    "print(\"DataFrame after adding a new column 'Country':\")\n",
    "print(df)\n",
    "print()\n",
    "\n",
    "# Dropping a column\n",
    "df.drop(columns=['City'], inplace=True)\n",
    "print(\"DataFrame after dropping the 'City' column:\")\n",
    "print(df)\n",
    "print()\n",
    "\n",
    "# Sorting by a column\n",
    "df_sorted = df.sort_values(by='Age', ascending=False)\n",
    "print(\"DataFrame sorted by Age (descending):\")\n",
    "print(df_sorted)\n"
   ]
  },
  {
   "cell_type": "code",
   "execution_count": 20,
   "id": "48d68c32-a0b8-4526-b8e1-90ab92901234",
   "metadata": {},
   "outputs": [
    {
     "data": {
      "text/plain": [
       "[1, 3, 12, 8, 0, 0, 0, 0]"
      ]
     },
     "execution_count": 20,
     "metadata": {},
     "output_type": "execute_result"
    }
   ],
   "source": [
    "nums = [0, 1, 0, 3, 12, 0, 8, 0]\n",
    "idx = 0\n",
    "for num in nums:\n",
    "    if num != 0:\n",
    "        nums[idx] = num\n",
    "        idx = idx + 1\n",
    "while idx < len(nums):\n",
    "        nums[idx] = 0\n",
    "        idx = idx + 1\n",
    "nums"
   ]
  },
  {
   "cell_type": "code",
   "execution_count": 31,
   "id": "85bd97d9-6062-4c8b-908c-b0a7f72a9e46",
   "metadata": {},
   "outputs": [
    {
     "data": {
      "text/plain": [
       "[1, 3, 12, 8, 0, 0, 0, 0]"
      ]
     },
     "execution_count": 31,
     "metadata": {},
     "output_type": "execute_result"
    }
   ],
   "source": [
    "nums = [0, 1, 0, 3, 12, 0, 8, 0]\n",
    "non_zero = []\n",
    "zero = []\n",
    "for i in nums:\n",
    "    if i != 0:\n",
    "        non_zero.append(i)\n",
    "    else:\n",
    "        zero.append(i)\n",
    "new_nums = non_zero + zero\n",
    "new_nums"
   ]
  },
  {
   "cell_type": "code",
   "execution_count": 1,
   "id": "4a56cebf-122d-40e1-b6eb-b39990f51422",
   "metadata": {},
   "outputs": [],
   "source": [
    "# lambda function"
   ]
  },
  {
   "cell_type": "code",
   "execution_count": 6,
   "id": "0d3137a4-d0d1-4b92-9342-801c85178e4c",
   "metadata": {},
   "outputs": [],
   "source": [
    "even_number = lambda number : 'Even' if number % 2 == 0 else 'Odd'"
   ]
  },
  {
   "cell_type": "code",
   "execution_count": 7,
   "id": "0f7a3235-e7a3-46c9-98e2-2f7f82c23f52",
   "metadata": {},
   "outputs": [
    {
     "data": {
      "text/plain": [
       "'Even'"
      ]
     },
     "execution_count": 7,
     "metadata": {},
     "output_type": "execute_result"
    }
   ],
   "source": [
    "even_number(10)"
   ]
  },
  {
   "cell_type": "code",
   "execution_count": 10,
   "id": "95251a46-74eb-4fc3-9f3f-49b8c16b3991",
   "metadata": {},
   "outputs": [
    {
     "name": "stdout",
     "output_type": "stream",
     "text": [
      "15\n"
     ]
    }
   ],
   "source": [
    "list1 = [1,2,3,4,5]\n",
    "sum = 0\n",
    "for i in list1:\n",
    "    sum = sum + i\n",
    "print(sum)"
   ]
  },
  {
   "cell_type": "code",
   "execution_count": 11,
   "id": "1e7e73a1-43af-4444-bceb-c8b4c1c22b0c",
   "metadata": {},
   "outputs": [
    {
     "name": "stdout",
     "output_type": "stream",
     "text": [
      "15\n"
     ]
    }
   ],
   "source": [
    "def sum_list(lst):\n",
    "    sum = 0\n",
    "    for i in list1:\n",
    "        sum = sum + i   \n",
    "    return sum\n",
    "list1 = [1,2,3,4,5]\n",
    "print(sum_list(list1))\n",
    "\n"
   ]
  },
  {
   "cell_type": "code",
   "execution_count": 16,
   "id": "ab6fde3b-2fd8-46dc-99c7-6990de292982",
   "metadata": {},
   "outputs": [
    {
     "name": "stdout",
     "output_type": "stream",
     "text": [
      "sad mahbusanpaws\n"
     ]
    }
   ],
   "source": [
    "def reverse_function(string):\n",
    "    reverse_string = \"\"\n",
    "    for idx in string: \n",
    "        reverse_string = idx + reverse_string\n",
    "    return reverse_string\n",
    "string = \"swapnasubham das\"\n",
    "print(reverse_function(string))"
   ]
  },
  {
   "cell_type": "code",
   "execution_count": 20,
   "id": "d72502eb-b0e6-47cf-a89a-bc79d57b8f5d",
   "metadata": {},
   "outputs": [
    {
     "data": {
      "text/plain": [
       "3628800"
      ]
     },
     "execution_count": 20,
     "metadata": {},
     "output_type": "execute_result"
    }
   ],
   "source": [
    "def factorial(number):\n",
    "    if (number == 0 | number == 1):\n",
    "        return 1\n",
    "    else:\n",
    "        return number * factorial(number - 1)\n",
    "factorial(10)"
   ]
  },
  {
   "cell_type": "code",
   "execution_count": null,
   "id": "71d6c2ab-a938-4cff-9393-473159d9a1a6",
   "metadata": {},
   "outputs": [],
   "source": []
  }
 ],
 "metadata": {
  "kernelspec": {
   "display_name": "Python 3 (ipykernel)",
   "language": "python",
   "name": "python3"
  },
  "language_info": {
   "codemirror_mode": {
    "name": "ipython",
    "version": 3
   },
   "file_extension": ".py",
   "mimetype": "text/x-python",
   "name": "python",
   "nbconvert_exporter": "python",
   "pygments_lexer": "ipython3",
   "version": "3.11.7"
  }
 },
 "nbformat": 4,
 "nbformat_minor": 5
}
