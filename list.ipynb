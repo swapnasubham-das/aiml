{
 "cells": [
  {
   "cell_type": "markdown",
   "id": "fc5f69f5-ee92-4dfd-9555-4e676ec06bc4",
   "metadata": {},
   "source": [
    "Write a Python program to sum all the items in a list."
   ]
  },
  {
   "cell_type": "code",
   "execution_count": 53,
   "id": "8765f774-2788-4b81-b10c-983033045a5a",
   "metadata": {},
   "outputs": [
    {
     "name": "stdout",
     "output_type": "stream",
     "text": [
      "Sum of list :  45\n"
     ]
    }
   ],
   "source": [
    "def sum_list(input_list):\n",
    "    sum = 0\n",
    "    for idx in input_list:\n",
    "        sum = sum + idx\n",
    "    return sum\n",
    "\n",
    "list1 = [1,2,3,4,5,6,7,8,9]\n",
    "print(\"Sum of list : \", sum_list(list1))"
   ]
  },
  {
   "cell_type": "markdown",
   "id": "7b559238-e9be-4df2-8521-d73465d84adc",
   "metadata": {},
   "source": [
    "Write a Python program to get the largest number from a list."
   ]
  },
  {
   "cell_type": "code",
   "execution_count": 54,
   "id": "b9341250-eb49-4967-90a0-97481d214284",
   "metadata": {},
   "outputs": [
    {
     "name": "stdout",
     "output_type": "stream",
     "text": [
      "Large number is :  8\n"
     ]
    }
   ],
   "source": [
    "def large_number(input_list):\n",
    "    large_number = input_list[0]\n",
    "    for i in input_list:\n",
    "        if(large_number < i ):\n",
    "            large_number = i\n",
    "    return large_number\n",
    "list1 = [5,7,8,3,2,6,7,8,1]\n",
    "print(\"Large number is : \", large_number(list1))"
   ]
  },
  {
   "cell_type": "markdown",
   "id": "1842642d-dfb0-4e9f-8cd8-6b7b1eb9cfdd",
   "metadata": {},
   "source": [
    "Write a Python program to get the smallest number from a list"
   ]
  },
  {
   "cell_type": "code",
   "execution_count": 55,
   "id": "f4db2efc-b699-4cd9-9bcf-87be49a7bda2",
   "metadata": {},
   "outputs": [
    {
     "name": "stdout",
     "output_type": "stream",
     "text": [
      "Small number is :  -2\n"
     ]
    }
   ],
   "source": [
    "def small_number(input_list):\n",
    "    small_number = input_list[0]\n",
    "    for i in input_list:\n",
    "        if(small_number > i):\n",
    "            small_number = i\n",
    "    return small_number\n",
    "list1 = [5,7,8,3,-2,6,7,8,1]\n",
    "print(\"Small number is : \", small_number(list1))    "
   ]
  },
  {
   "cell_type": "markdown",
   "id": "7ef398f1-8b8e-4185-b90d-c9a0f50a06f9",
   "metadata": {},
   "source": [
    "Write a Python program to remove duplicates from a list"
   ]
  },
  {
   "cell_type": "code",
   "execution_count": 56,
   "id": "4986e0b3-ec69-470a-831c-89dce0d762ae",
   "metadata": {},
   "outputs": [
    {
     "name": "stdout",
     "output_type": "stream",
     "text": [
      "Unique List is :  [1, 2, 3, 4, 55, 6, 7, 87, 8, 9, 99, 0]\n"
     ]
    }
   ],
   "source": [
    "def remove_duplicate(input_list):\n",
    "    unique_list = []\n",
    "    for item in input_list:\n",
    "        if item not in unique_list:\n",
    "            unique_list.append(item)\n",
    "    return unique_list\n",
    "list1 = [1,1,2,2,3,4,4,55,6,6,7,87,8,9,99,0]\n",
    "print(\"Unique List is : \", remove_duplicate(list1))  "
   ]
  },
  {
   "cell_type": "markdown",
   "id": "ecd271e1-2c3d-46b6-b6df-5fd5dee064a6",
   "metadata": {},
   "source": [
    "Write a Python program to find the list of words that are longer than n from a given list of words"
   ]
  },
  {
   "cell_type": "code",
   "execution_count": 57,
   "id": "05006b69-33cd-48af-bff1-1341e069a108",
   "metadata": {},
   "outputs": [
    {
     "name": "stdout",
     "output_type": "stream",
     "text": [
      "(['data', 'science', 'enthusiast'], 3)\n"
     ]
    }
   ],
   "source": [
    "def find_longer_word(input_list,word_size):\n",
    "    longer_word = []\n",
    "    counter = 0\n",
    "    for item in input_list:\n",
    "        if (len(item) > word_size):\n",
    "            longer_word.append(item)\n",
    "            counter = counter + 1\n",
    "    return longer_word,counter\n",
    "list_sample = ['I', 'am', 'a', 'data', 'science', 'enthusiast']\n",
    "print(find_longer_word(list_sample,2))"
   ]
  },
  {
   "cell_type": "markdown",
   "id": "b3e106fc-aef8-4f48-966d-08dc439b17d2",
   "metadata": {},
   "source": [
    "Write a Python function that takes two lists and returns True if they have at least one common member"
   ]
  },
  {
   "cell_type": "code",
   "execution_count": 58,
   "id": "9b1e71fa-562e-4d09-9830-e401e53f0f82",
   "metadata": {},
   "outputs": [
    {
     "name": "stdout",
     "output_type": "stream",
     "text": [
      "True\n",
      "False\n"
     ]
    }
   ],
   "source": [
    "def common_member(input_list1,input_list2):\n",
    "    counter = 0\n",
    "    for item in input_list1:\n",
    "        if(item in input_list2):\n",
    "            counter = 1\n",
    "            break\n",
    "    if(counter == 1):\n",
    "        return True\n",
    "    else:\n",
    "        return False\n",
    "list1 = [1,2,3,4,55]\n",
    "list2 = [2,3,5,6,7,8]\n",
    "list3 = [\"swapnasubham\",\"das\"]\n",
    "print(common_member(list1,list2))\n",
    "print(common_member(list2,list3))"
   ]
  },
  {
   "cell_type": "markdown",
   "id": "f23bcd01-db6a-4e64-ae59-d2a652b31e3a",
   "metadata": {},
   "source": [
    "Write a Python program to print a specified list after removing the 0th, 4th and 5th elements."
   ]
  },
  {
   "cell_type": "code",
   "execution_count": 59,
   "id": "ef315206-1580-4b28-9103-bdec4d71c2a1",
   "metadata": {},
   "outputs": [
    {
     "name": "stdout",
     "output_type": "stream",
     "text": [
      "['Green', 'White', 'Black']\n"
     ]
    }
   ],
   "source": [
    "def remove_element(input_list,remove_index):\n",
    "    final_list = []\n",
    "    remove_element = []\n",
    "    for i in remove_index:\n",
    "        remove_element.append(input_list[i])\n",
    "    for item in input_list:\n",
    "        if(item not in remove_element):\n",
    "            final_list.append(item)\n",
    "    return final_list \n",
    "\n",
    "list_colours = ['Red', 'Green', 'White', 'Black', 'Pink', 'Yellow']\n",
    "remove_index = [0,4,5]\n",
    "print(remove_element(list_colours,remove_index))"
   ]
  },
  {
   "cell_type": "markdown",
   "id": "6584e905-e7e5-428e-9cf9-009a336b2f88",
   "metadata": {},
   "source": [
    "Write a Python program to shuffle and print a specified list."
   ]
  },
  {
   "cell_type": "code",
   "execution_count": 60,
   "id": "cfd7d535-5058-477d-877a-789ae6dd8ff8",
   "metadata": {},
   "outputs": [
    {
     "name": "stdout",
     "output_type": "stream",
     "text": [
      "Actual List   [1, 2, 3, 4, 5, 6, 7, 8, 9, 10, 11, 12, 13, 14, 15, 16, 17, 18, 19, 20, 21, 22, 23, 24, 25, 26, 27, 28, 29, 30]\n",
      "Shuffle List  [29, 3, 28, 12, 20, 19, 23, 26, 1, 25, 21, 6, 9, 27, 13, 8, 11, 24, 4, 2, 22, 7, 18, 14, 5, 30, 15, 17, 10, 16]\n"
     ]
    }
   ],
   "source": [
    "from random import shuffle\n",
    "def random_shuffle(input_list):\n",
    "    shuffle(input_list)\n",
    "    return input_list\n",
    "\n",
    "list1 = [i for i in range(1,31)]\n",
    "print(\"Actual List  \",list1)\n",
    "print(\"Shuffle List \",random_shuffle(list1))"
   ]
  },
  {
   "cell_type": "markdown",
   "id": "a7dae828-ef08-4587-9b5d-6a102d002f93",
   "metadata": {},
   "source": [
    "Write a Python program to generate and print a list of first and last 5 elements square in range of numbers between 1 and 30 (both included)."
   ]
  },
  {
   "cell_type": "code",
   "execution_count": 61,
   "id": "9f894275-56cc-4cfa-a557-dce384efc17a",
   "metadata": {},
   "outputs": [
    {
     "name": "stdout",
     "output_type": "stream",
     "text": [
      "Random list :  [24, 31, 6, 2, 9, 14, 20, 5, 24, 3, 8, 31, 3, 7, 18, 10, 12, 24, 12, 15, 3, 25, 17, 19, 15, 17, 25, 14, 2, 1]\n",
      "First and Last 5 element square :  [576, 961, 36, 4, 81, 289, 625, 196, 4, 1]\n"
     ]
    }
   ],
   "source": [
    "from random import randint\n",
    "def random_square():\n",
    "    random_list = []\n",
    "    for i in range(1,31):\n",
    "        n = randint(1,31)\n",
    "        random_list.append(n)\n",
    "    print(\"Random list : \",random_list)\n",
    "    first_last = []\n",
    "    for i in random_list[:5] + random_list[-5:]:\n",
    "        first_last.append(i ** 2)\n",
    "    print(\"First and Last 5 element square : \",first_last) \n",
    "random_square()"
   ]
  },
  {
   "cell_type": "markdown",
   "id": "dff9a78b-84ec-4b48-8710-0be0a612a12f",
   "metadata": {},
   "source": [
    "Write a Python program to get unique values from a list"
   ]
  },
  {
   "cell_type": "code",
   "execution_count": 63,
   "id": "22591020-d796-4034-a86d-fb35d074df0a",
   "metadata": {},
   "outputs": [
    {
     "name": "stdout",
     "output_type": "stream",
     "text": [
      "Unique List :  [1, 2, 3, 4, 5, 6, 7, 8, 9]\n"
     ]
    }
   ],
   "source": [
    "def get_unique_values(input_list):\n",
    "    unique_list = []\n",
    "    for item in input_list:\n",
    "        if item not in unique_list:\n",
    "            unique_list.append(item)\n",
    "    return unique_list\n",
    "input_list = [1, 2, 2, 3, 4, 4, 5, 1, 6, 7, 8, 7, 9]\n",
    "print(\"Unique List : \",get_unique_values(input_list))"
   ]
  },
  {
   "cell_type": "markdown",
   "id": "47dd922f-a63e-4009-bab4-8f7d900ae15b",
   "metadata": {},
   "source": [
    "Write a Python program to get the frequency of the elements in a list."
   ]
  },
  {
   "cell_type": "code",
   "execution_count": 73,
   "id": "537ab665-e3b6-4b6a-ad04-0fdef69f03a7",
   "metadata": {},
   "outputs": [
    {
     "data": {
      "text/plain": [
       "[[1, 2], [2, 2], [3, 5], [4, 2], [5, 3], [6, 3], [88, 2], [89, 1]]"
      ]
     },
     "execution_count": 73,
     "metadata": {},
     "output_type": "execute_result"
    }
   ],
   "source": [
    "def frequency(input_list):\n",
    "    frequency_list = []\n",
    "    unique_list = list(set(input_list))\n",
    "    for i in unique_list:\n",
    "        if i in input_list:\n",
    "            frequency_list.append([i,input_list.count(i)])\n",
    "    return frequency_list\n",
    "\n",
    "list1 = [1,1,88,2,2,3,3,4,4,5,5,5,6,6,3,3,6,3,88,89]\n",
    "frequency(list1)"
   ]
  },
  {
   "cell_type": "code",
   "execution_count": null,
   "id": "b795f337-749c-4e74-9f66-9d82f6826ae0",
   "metadata": {},
   "outputs": [],
   "source": []
  }
 ],
 "metadata": {
  "kernelspec": {
   "display_name": "Python 3 (ipykernel)",
   "language": "python",
   "name": "python3"
  },
  "language_info": {
   "codemirror_mode": {
    "name": "ipython",
    "version": 3
   },
   "file_extension": ".py",
   "mimetype": "text/x-python",
   "name": "python",
   "nbconvert_exporter": "python",
   "pygments_lexer": "ipython3",
   "version": "3.11.7"
  }
 },
 "nbformat": 4,
 "nbformat_minor": 5
}
