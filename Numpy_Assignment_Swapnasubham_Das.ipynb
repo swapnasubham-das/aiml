{
 "cells": [
  {
   "cell_type": "raw",
   "id": "744770e8",
   "metadata": {},
   "source": [
    "1. Create the first numpy array of 1-D with values (1,2,3,0).Create a second numpy array of 1-D with values (4,1,0, 6). \n",
    "Perform following simple arithmetic operations on\n",
    "these two numpy arrays:\n",
    " • Addition\n",
    " • Subtraction\n",
    " • Multiplication\n",
    " • Division"
   ]
  },
  {
   "cell_type": "code",
   "execution_count": 1,
   "id": "ec94075b",
   "metadata": {},
   "outputs": [
    {
     "name": "stdout",
     "output_type": "stream",
     "text": [
      "Addition is:-\n",
      "[5 3 3 6]\n",
      "Subtraction is:-\n",
      "[-3  1  3 -6]\n",
      "Multiplication is:-\n",
      "[4 2 0 0]\n",
      "Division is:-\n",
      "[0.25 2.    inf 0.  ]\n"
     ]
    },
    {
     "name": "stderr",
     "output_type": "stream",
     "text": [
      "C:\\Users\\sdas9\\AppData\\Local\\Temp\\ipykernel_1492\\2041302985.py:8: RuntimeWarning: divide by zero encountered in divide\n",
      "  division = first_array / second_array\n"
     ]
    }
   ],
   "source": [
    "import numpy as np\n",
    "\n",
    "first_array = np.array([1,2,3,0])\n",
    "second_array = np.array([4,1,0,6])\n",
    "addition = first_array + second_array\n",
    "subtraction = first_array - second_array\n",
    "multiplication = first_array * second_array\n",
    "division = first_array / second_array\n",
    "print(\"Addition is:-\")\n",
    "print(addition)\n",
    "print(\"Subtraction is:-\")\n",
    "print(subtraction)\n",
    "print(\"Multiplication is:-\")\n",
    "print(multiplication)\n",
    "print(\"Division is:-\")\n",
    "print(division)"
   ]
  },
  {
   "cell_type": "raw",
   "id": "14347a9e",
   "metadata": {},
   "source": [
    "2. Create the first numpy array of random integers between 1-100 of 5 elements in 1-D. Create second numpy array of 2-D for the same range of integers of shape 4*5. \n",
    "Now perform following simple arithmetic operations on these two numpy arrays:\n",
    " • Addition\n",
    " • Subtraction"
   ]
  },
  {
   "cell_type": "code",
   "execution_count": 2,
   "id": "7b71dd08",
   "metadata": {},
   "outputs": [
    {
     "name": "stdout",
     "output_type": "stream",
     "text": [
      "1-D array is:-\n",
      "[49 73 73 53 75]\n",
      "2-D array is:-\n",
      "[[56 81 57 99 83]\n",
      " [21 25 98 81 93]\n",
      " [69  2 79 94 52]\n",
      " [49 82 51 45 36]]\n",
      "Addition is:-\n",
      "[[105 154 130 152 158]\n",
      " [ 70  98 171 134 168]\n",
      " [118  75 152 147 127]\n",
      " [ 98 155 124  98 111]]\n",
      "Subtraction is:-\n",
      "[[  7   8 -16  46   8]\n",
      " [-28 -48  25  28  18]\n",
      " [ 20 -71   6  41 -23]\n",
      " [  0   9 -22  -8 -39]]\n"
     ]
    }
   ],
   "source": [
    "import numpy as np\n",
    "\n",
    "first_array = np.random.randint(1, 101, 5)\n",
    "second_array = np.random.randint(1, 101,20).reshape(4,5)\n",
    "\n",
    "# Performing addition\n",
    "addition = second_array + first_array\n",
    "\n",
    "# Performing subtraction\n",
    "subtraction = second_array - first_array\n",
    "\n",
    "print(\"1-D array is:-\")\n",
    "print(first_array)\n",
    "print(\"2-D array is:-\")\n",
    "print(second_array)\n",
    "print(\"Addition is:-\")\n",
    "print(addition)\n",
    "print(\"Subtraction is:-\")\n",
    "print(subtraction)"
   ]
  },
  {
   "cell_type": "raw",
   "id": "96bd8922",
   "metadata": {},
   "source": [
    "3. Create a 3-D array of 27 random elements using random function of shape 3*3*3. Now pull the following elements using indexing/slicing\n",
    "\n",
    " • Third column of second 2-D array\n",
    " • First and third row of first 2-D array\n",
    " • Intersection of first row and third column in third 2-D array"
   ]
  },
  {
   "cell_type": "code",
   "execution_count": 3,
   "id": "3b457bb3",
   "metadata": {},
   "outputs": [
    {
     "name": "stdout",
     "output_type": "stream",
     "text": [
      "3-D array is :-\n",
      "[[[46 33 24]\n",
      "  [57 69 89]\n",
      "  [32 39 19]]\n",
      "\n",
      " [[67 44 21]\n",
      "  [68 99 59]\n",
      "  [73 30 32]]\n",
      "\n",
      " [[51 60 71]\n",
      "  [85 48 77]\n",
      "  [94 76 58]]]\n",
      "Third column of second 2-D array is :-\n",
      "[21 59 32]\n",
      "First and third row of first 2-D array is :-\n",
      "[[46 33 24]\n",
      " [32 39 19]]\n",
      "Intersection of first row and third column in third 2-D array is :-\n",
      "71\n"
     ]
    }
   ],
   "source": [
    "import numpy as np\n",
    "\n",
    "array_three_d = np.random.randint(1, 101,27).reshape (3, 3, 3)\n",
    "\n",
    "second_d_third_column = array_three_d[1, :, 2]\n",
    "first_d_first_row_third_row = array_three_d[0, [0, 2], :]\n",
    "third_d_intersection_first_row_third_column = array_three_d[2, 0, 2]\n",
    "\n",
    "print(\"3-D array is :-\")\n",
    "print(array_three_d)\n",
    "print(\"Third column of second 2-D array is :-\")\n",
    "print(second_d_third_column)\n",
    "print(\"First and third row of first 2-D array is :-\")\n",
    "print(first_d_first_row_third_row)\n",
    "print(\"Intersection of first row and third column in third 2-D array is :-\")\n",
    "print(third_d_intersection_first_row_third_column)"
   ]
  },
  {
   "cell_type": "raw",
   "id": "50ad7e45",
   "metadata": {},
   "source": [
    "4. Create a 2-D numpy array of random integers between 1 to 100 with shape 5*4. Now perform following operations: \n",
    " • Print only the even numbers from this array\n",
    " • Print only the odd numbers from this array\n",
    " • Print row wise sum of all elements\n",
    " • Print column wise sum of all elements\n",
    " • Convert this 2-D array into 3-D array of shape 2*2*5"
   ]
  },
  {
   "cell_type": "code",
   "execution_count": 4,
   "id": "a8094a75",
   "metadata": {},
   "outputs": [
    {
     "name": "stdout",
     "output_type": "stream",
     "text": [
      "Original 2-D Array:-\n",
      " [[ 34  50  56 100]\n",
      " [ 65  52  35  62]\n",
      " [ 94  33  36  72]\n",
      " [ 28  49  39  94]\n",
      " [ 46  24  71  40]]\n",
      "Even Numbers:-\n",
      " [ 34  50  56 100  52  62  94  36  72  28  94  46  24  40]\n",
      "Odd Numbers:-\n",
      " [65 35 33 49 39 71]\n",
      "Row-wise Sum:-\n",
      " [240 214 235 210 181]\n",
      "Column-wise Sum:-\n",
      " [267 208 237 368]\n",
      "3D Array:-\n",
      " [[[ 34  50  56 100  65]\n",
      "  [ 52  35  62  94  33]]\n",
      "\n",
      " [[ 36  72  28  49  39]\n",
      "  [ 94  46  24  71  40]]]\n"
     ]
    }
   ],
   "source": [
    "import numpy as np\n",
    "\n",
    "random_matrix = np.random.randint(1, 101,20).reshape(5, 4)\n",
    "print(\"Original 2-D Array:-\\n\", random_matrix)\n",
    "\n",
    "even_number = random_matrix[random_matrix % 2 == 0]\n",
    "print(\"Even Numbers:-\\n\", even_number)\n",
    "\n",
    "odd_number = random_matrix[random_matrix % 2 != 0]\n",
    "print(\"Odd Numbers:-\\n\", odd_number)\n",
    "\n",
    "row_sum = random_matrix.sum(axis = 1);\n",
    "print(\"Row-wise Sum:-\\n\", row_sum)\n",
    "\n",
    "column_sum = random_matrix.sum(axis = 0);\n",
    "print(\"Column-wise Sum:-\\n\", column_sum)\n",
    "\n",
    "three_d = random_matrix.reshape(2,2,5)\n",
    "print(\"3D Array:-\\n\", three_d)"
   ]
  },
  {
   "cell_type": "raw",
   "id": "5ed7f49a",
   "metadata": {},
   "source": [
    "5. Create a 2-D numpy array of random integers between 1 to 100 with shape 5*4. Now perform following operations:\n",
    " • Swap first row with third row\n",
    " • Swap second column with fourth column.\n",
    " • Replace the values less than 50 with zero.\n",
    " • Convert this 2D array into 1-D array"
   ]
  },
  {
   "cell_type": "code",
   "execution_count": 13,
   "id": "6e705e93",
   "metadata": {},
   "outputs": [
    {
     "name": "stdout",
     "output_type": "stream",
     "text": [
      "Original array:\n",
      " [[42 59 66 37]\n",
      " [11 87 44 12]\n",
      " [ 3 52 81 33]\n",
      " [55  1 39 20]\n",
      " [47 43 57 61]]\n",
      "\n",
      "Array after swapping first and third rows:\n",
      " [[ 3 52 81 33]\n",
      " [11 87 44 12]\n",
      " [42 59 66 37]\n",
      " [55  1 39 20]\n",
      " [47 43 57 61]]\n",
      "\n",
      "Array after swapping second and fourth columns:\n",
      " [[42 37 66 59]\n",
      " [11 12 44 87]\n",
      " [ 3 33 81 52]\n",
      " [55 20 39  1]\n",
      " [47 61 57 43]]\n",
      "\n",
      "Array after replacing values less than 50 with zero:\n",
      " [[ 0 59 66  0]\n",
      " [ 0 87  0  0]\n",
      " [ 0 52 81  0]\n",
      " [55  0  0  0]\n",
      " [ 0  0 57 61]]\n",
      "\n",
      "Converted 1D array:\n",
      " [42 59 66 37 11 87 44 12  3 52 81 33 55  1 39 20 47 43 57 61]\n"
     ]
    }
   ],
   "source": [
    "import numpy as np\n",
    "\n",
    "matrix_random = np.random.randint(1, 101, 20).reshape(5, 4)\n",
    "swap_first_third_row = np.copy(matrix_random)\n",
    "swap_second_fourth_column = np.copy(matrix_random)\n",
    "replace_less_50 = np.copy(matrix_random)\n",
    "\n",
    "print(\"Original array:\\n\", matrix_random)\n",
    "\n",
    "swap_first_third_row[[0, 2]] = swap_first_third_row[[2, 0]]\n",
    "print(\"\\nArray after swapping first and third rows:\\n\", swap_first_third_row)\n",
    "\n",
    "swap_second_fourth_column[:, [1, 3]] = swap_second_fourth_column[:, [3, 1]]\n",
    "print(\"\\nArray after swapping second and fourth columns:\\n\", swap_second_fourth_column)\n",
    "\n",
    "replace_less_50[replace_less_50 < 50] = 0\n",
    "print(\"\\nArray after replacing values less than 50 with zero:\\n\", replace_less_50)\n",
    "\n",
    "array_1d = matrix_random.ravel()\n",
    "print(\"\\nConverted 1D array:\\n\", array_1d)\n"
   ]
  },
  {
   "cell_type": "raw",
   "id": "3079e8ba",
   "metadata": {},
   "source": [
    "6. Explain the concept of stacking in numpy with examples. How is it different from concatenation. Give any 3 differences between them"
   ]
  },
  {
   "cell_type": "raw",
   "id": "a9fcad0f",
   "metadata": {},
   "source": [
    "The numpy stack() function is used to combine a series of arrays along a new axis. The numPy concatenate() function is also used to combine two or more arrays, but by using numPy stack(), we can combine arrays along a new axis."
   ]
  },
  {
   "cell_type": "code",
   "execution_count": 15,
   "id": "10e0aef2",
   "metadata": {},
   "outputs": [
    {
     "name": "stdout",
     "output_type": "stream",
     "text": [
      "[[5 6]\n",
      " [6 7]\n",
      " [7 8]]\n"
     ]
    }
   ],
   "source": [
    "import numpy as np\n",
    "\n",
    "array1 = np.array([5, 6, 7])\n",
    "array2 = np.array([6, 7, 8])\n",
    "\n",
    "# Using np.stack() function to stack two arrays column-wise:\n",
    "array_combined = np.stack((array1, array2), axis=1)\n",
    "\n",
    "print(array_combined)\n"
   ]
  },
  {
   "cell_type": "raw",
   "id": "80154a3b",
   "metadata": {},
   "source": [
    "We can use the NumPy stack() function to combine two one-dimensional NumPy arrays. If we want our arrays to be combined row-wise, we need to set the axis as 0, and for column-wise stacking, we need to set the axis as 1."
   ]
  },
  {
   "cell_type": "code",
   "execution_count": 19,
   "id": "3083fbc3",
   "metadata": {},
   "outputs": [
    {
     "name": "stdout",
     "output_type": "stream",
     "text": [
      "[[2 4 5]\n",
      " [9 8 2]]\n",
      "[[2 9]\n",
      " [4 8]\n",
      " [5 2]]\n"
     ]
    }
   ],
   "source": [
    "import numpy as np\n",
    "\n",
    "array1 = np.array([2, 4, 5])\n",
    "array2 = np.array([9, 8, 2])\n",
    "\n",
    "arr_combined_hrz = np.stack((array1, array2), axis=0)\n",
    "arr_combined_vtl = np.stack((array1, array2), axis=1)\n",
    "\n",
    "print(arr_combined_hrz)\n",
    "print(arr_combined_vtl)"
   ]
  },
  {
   "cell_type": "raw",
   "id": "2af32514",
   "metadata": {},
   "source": [
    "we can combine two two-dimensional arrays using the numpy stack() function."
   ]
  },
  {
   "cell_type": "code",
   "execution_count": 20,
   "id": "003e0d9e",
   "metadata": {},
   "outputs": [
    {
     "name": "stdout",
     "output_type": "stream",
     "text": [
      "[[[2 7 6]\n",
      "  [4 5 6]]\n",
      "\n",
      " [[1 2 3]\n",
      "  [6 2 3]]]\n",
      "[[[2 7 6]\n",
      "  [1 2 3]]\n",
      "\n",
      " [[4 5 6]\n",
      "  [6 2 3]]]\n"
     ]
    }
   ],
   "source": [
    "import numpy as np\n",
    "\n",
    "array1 = np.array([[2, 7, 6],\n",
    "                [4, 5, 6]])\n",
    "\n",
    "array2 = np.array([[1, 2, 3],\n",
    "                [6, 2, 3]])\n",
    "\n",
    "arr_combined_hrz = np.stack((array1, array2), axis=0)\n",
    "arr_combined_vtl = np.stack((array1, array2), axis=1)\n",
    "\n",
    "print(arr_combined_hrz)\n",
    "print(arr_combined_vtl)\n"
   ]
  },
  {
   "cell_type": "raw",
   "id": "002bbe22",
   "metadata": {},
   "source": [
    "Three differences between stack and concatenate operations in NumPy:\n",
    "\n",
    "Dimension: The stack function stacks arrays along a new axis, while concatenate combines arrays along an existing axis.In stack, you need to specify the axis along which the arrays will be stacked, whereas in concatenate, you need to specify the axis along which the arrays will be concatenated.\n",
    "\n",
    "Number of Arrays: stack can operate on multiple arrays simultaneously, while concatenate typically operates on two arrays at a time (although it can handle more than two arrays as well).\n",
    "\n",
    "Output Shape: When using stack, the output array will have an additional dimension compared to the input arrays. On the other hand, concatenate preserves the number of dimensions, but the length of the concatenation axis increases."
   ]
  }
 ],
 "metadata": {
  "kernelspec": {
   "display_name": "Python 3 (ipykernel)",
   "language": "python",
   "name": "python3"
  },
  "language_info": {
   "codemirror_mode": {
    "name": "ipython",
    "version": 3
   },
   "file_extension": ".py",
   "mimetype": "text/x-python",
   "name": "python",
   "nbconvert_exporter": "python",
   "pygments_lexer": "ipython3",
   "version": "3.11.5"
  }
 },
 "nbformat": 4,
 "nbformat_minor": 5
}
